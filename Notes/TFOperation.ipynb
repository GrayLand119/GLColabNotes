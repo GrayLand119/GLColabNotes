{
 "cells": [
  {
   "cell_type": "code",
   "execution_count": 17,
   "metadata": {
    "collapsed": true
   },
   "outputs": [
    {
     "name": "stdout",
     "output_type": "stream",
     "text": [
      "TF imported with eager execution!\n"
     ]
    }
   ],
   "source": [
    "from __future__ import print_function\n",
    "from IPython import display\n",
    "import tensorflow as tf\n",
    "import numpy as np\n",
    "from tensorflow.python.data import Dataset\n",
    "import pandas as pd\n",
    "\n",
    "try:\n",
    "    tf.contrib.eager.enable_eager_execution()\n",
    "    print(\"TF imported with eager execution!\")\n",
    "except ValueError:\n",
    "    print(\"TF already imported with eager execution!\")\n"
   ]
  },
  {
   "cell_type": "markdown",
   "metadata": {},
   "source": [
    "# 张量运算相关函数"
   ]
  },
  {
   "cell_type": "code",
   "execution_count": 5,
   "metadata": {},
   "outputs": [
    {
     "name": "stdout",
     "output_type": "stream",
     "text": [
      "tf.Tensor([1 2 3], shape=(3,), dtype=int32)\n"
     ]
    }
   ],
   "source": [
    "# 定义常量\n",
    "a = tf.constant([1, 2, 3], dtype=tf.int32)\n",
    "print(a)\n",
    "# tf.Tensor([1 2 3], shape=(3,), dtype=int32)"
   ]
  },
  {
   "cell_type": "code",
   "execution_count": 6,
   "metadata": {},
   "outputs": [
    {
     "name": "stdout",
     "output_type": "stream",
     "text": [
      "tf.Tensor([1. 1. 1. 1. 1. 1.], shape=(6,), dtype=float32)\ntf.Tensor(\n[[1. 1.]\n [1. 1.]\n [1. 1.]], shape=(3, 2), dtype=float32)\n"
     ]
    }
   ],
   "source": [
    "# 创建指定纬度数据, 以 1 填充\n",
    "print(tf.ones([6]))\n",
    "print(tf.ones([3, 2]))"
   ]
  },
  {
   "cell_type": "code",
   "execution_count": 7,
   "metadata": {},
   "outputs": [
    {
     "name": "stdout",
     "output_type": "stream",
     "text": [
      "tf.Tensor([0. 0. 0. 0. 0. 0.], shape=(6,), dtype=float32)\ntf.Tensor(\n[[0. 0.]\n [0. 0.]\n [0. 0.]], shape=(3, 2), dtype=float32)\n"
     ]
    }
   ],
   "source": [
    "# 创建指定纬度数据, 以 0 填充\n",
    "print(tf.zeros([6]))\n",
    "print(tf.zeros([3, 2]))\n"
   ]
  },
  {
   "cell_type": "code",
   "execution_count": 8,
   "metadata": {},
   "outputs": [
    {
     "name": "stdout",
     "output_type": "stream",
     "text": [
      "tf.Tensor([1 2 3 4 5 6 7 8 9], shape=(9,), dtype=int32)\ntf.Tensor(\n[[1 2 3]\n [4 5 6]\n [7 8 9]], shape=(3, 3), dtype=int32)\n"
     ]
    }
   ],
   "source": [
    "# 重置数据的维度\n",
    "a = tf.constant([1, 2, 3, 4, 5, 6, 7, 8, 9])\n",
    "print(a)\n",
    "print(tf.reshape(a, [3, 3]))\n"
   ]
  },
  {
   "cell_type": "code",
   "execution_count": 9,
   "metadata": {},
   "outputs": [
    {
     "name": "stdout",
     "output_type": "stream",
     "text": [
      "tf.Tensor(\n[1.5436863 2.9982014 2.9637558 2.1490326 1.9388257 2.571524  0.8946587\n 2.3943443 1.0879513 1.0494789], shape=(10,), dtype=float32)\n"
     ]
    }
   ],
   "source": [
    "# 随机数 - 正态分布\n",
    "print(tf.random_normal(shape=[10], mean=2.0, stddev=1.0))"
   ]
  },
  {
   "cell_type": "code",
   "execution_count": 10,
   "metadata": {},
   "outputs": [
    {
     "name": "stdout",
     "output_type": "stream",
     "text": [
      "tf.Tensor(\n[[82.598724 90.53528  75.95274  77.61642  86.012886]\n [53.618168 90.59499  92.60213  78.02025  81.80449 ]\n [60.031307 74.45615  79.75863  95.69632  91.88367 ]\n [50.543964 97.603516 64.23519  91.58482  56.42457 ]\n [81.66092  79.993454 88.58026  65.41999  75.83295 ]], shape=(5, 5), dtype=float32)\n"
     ]
    }
   ],
   "source": [
    "# 随机数 - 范围随机\n",
    "print(tf.random_uniform(shape=[5, 5], minval=50, maxval=100))\n"
   ]
  },
  {
   "cell_type": "code",
   "execution_count": 19,
   "metadata": {
    "collapsed": false
   },
   "outputs": [
    {
     "name": "stdout",
     "output_type": "stream",
     "text": [
      "d1: tf.Tensor(\n[[0.29824257]\n [4.243346  ]\n [9.39332   ]\n [6.6800904 ]\n [2.3734176 ]\n [4.1688194 ]\n [4.6724296 ]\n [7.3838615 ]\n [5.703574  ]\n [9.930505  ]], shape=(10, 1), dtype=float32)\nd2: tf.Tensor(\n[[5.976689 ]\n [4.984765 ]\n [2.5285149]\n [6.8168283]\n [8.147064 ]\n [2.3720598]\n [8.96068  ]\n [5.477866 ]\n [4.928857 ]\n [4.720149 ]], shape=(10, 1), dtype=float32)\nd3: tf.Tensor(\n[[ 6.2749314]\n [ 9.228111 ]\n [11.921835 ]\n [13.496919 ]\n [10.520482 ]\n [ 6.5408792]\n [13.63311  ]\n [12.861728 ]\n [10.632431 ]\n [14.650654 ]], shape=(10, 1), dtype=float32)\nresult: tf.Tensor(\n[[ 0.29824257  5.976689    6.2749314 ]\n [ 4.243346    4.984765    9.228111  ]\n [ 9.39332     2.5285149  11.921835  ]\n [ 6.6800904   6.8168283  13.496919  ]\n [ 2.3734176   8.147064   10.520482  ]\n [ 4.1688194   2.3720598   6.5408792 ]\n [ 4.6724296   8.96068    13.63311   ]\n [ 7.3838615   5.477866   12.861728  ]\n [ 5.703574    4.928857   10.632431  ]\n [ 9.930505    4.720149   14.650654  ]], shape=(10, 3), dtype=float32)\n"
     ]
    }
   ],
   "source": [
    "# 数据拼接成多维\n",
    "d1 = tf.random_uniform([10, 1], 0, 10)\n",
    "d2 = tf.random_uniform([10, 1], 0, 10)\n",
    "d3 = tf.add(d1,d2)\n",
    "result = tf.concat([d1,d2,d3], axis=1)\n",
    "print(\"d1:\", d1)\n",
    "print(\"d2:\", d2)\n",
    "print(\"d3:\", d3)\n",
    "print(\"result:\", result)"
   ]
  },
  {
   "cell_type": "code",
   "execution_count": 24,
   "metadata": {},
   "outputs": [
    {
     "name": "stdout",
     "output_type": "stream",
     "text": [
      "    index\n0       0\n1       1\n2       2\n3       3\n4       4\n5       5\n6       6\n7       7\n8       8\n9       9\n10     10\n11     11\n12     12\n13     13\n14     14\n15     15\n16     16\n17     17\n18     18\n19     19\n20     20\n21     21\n22     22\n23     23\n24     24\n25     25\n26     26\n27     27\n28     28\n29     29\n..    ...\n70     70\n71     71\n72     72\n73     73\n74     74\n75     75\n76     76\n77     77\n78     78\n79     79\n80     80\n81     81\n82     82\n83     83\n84     84\n85     85\n86     86\n87     87\n88     88\n89     89\n90     90\n91     91\n92     92\n93     93\n94     94\n95     95\n96     96\n97     97\n98     98\n99     99\n\n[100 rows x 1 columns]\n"
     ]
    }
   ],
   "source": [
    "datas = pd.DataFrame()\n",
    "s1 = pd.Series([x for x in np.arange(100)])\n",
    "datas[\"index\"] = s1\n",
    "print(datas)\n"
   ]
  },
  {
   "cell_type": "code",
   "execution_count": 33,
   "metadata": {},
   "outputs": [
    {
     "name": "stdout",
     "output_type": "stream",
     "text": [
      "[0, 1, 2, 3, 4, 5, 6, 7, 8, 9]\n[8 0 5 6 3 1 7 9 4 2]\n[4, 0, 5, 6, 8, 3, 7, 9, 2, 1]\n"
     ]
    }
   ],
   "source": [
    "a1 = [x for x in np.arange(10)]\n",
    "print(a1)\n",
    "a2 = np.random.permutation(a1)\n",
    "print(a2)\n",
    "np.random.shuffle(a1)\n",
    "print(a1)\n"
   ]
  },
  {
   "cell_type": "code",
   "execution_count": 36,
   "metadata": {},
   "outputs": [
    {
     "name": "stdout",
     "output_type": "stream",
     "text": [
      "[[0 1]\n [2 3]\n [4 5]\n [6 7]\n [8 9]]\n[[2 3]\n [0 1]\n [6 7]\n [4 5]\n [8 9]]\n[[2 3]\n [0 1]\n [6 7]\n [4 5]\n [8 9]]\n"
     ]
    }
   ],
   "source": [
    "a1 = [x for x in np.arange(10)]\n",
    "a1 = np.reshape(a1, [5, 2])\n",
    "print(a1)\n",
    "a2 = np.random.permutation(a1)\n",
    "print(a2)\n",
    "np.random.shuffle(a1)\n",
    "print(a1)\n"
   ]
  },
  {
   "cell_type": "code",
   "execution_count": 39,
   "metadata": {},
   "outputs": [
    {
     "name": "stdout",
     "output_type": "stream",
     "text": [
      "[6 8 0 7 1 9 4 2 3 5]\nNone\n"
     ]
    }
   ],
   "source": [
    "print(np.random.permutation(np.arange(10)))\n",
    "print(np.random.shuffle(np.arange(10)))"
   ]
  },
  {
   "cell_type": "code",
   "execution_count": 51,
   "metadata": {},
   "outputs": [
    {
     "name": "stdout",
     "output_type": "stream",
     "text": [
      "<zip object at 0x140b55748>\n<class 'tuple'>\n1 to 2\nr0 = 1, r1 = 2\n<class 'tuple'>\n2 to 3\nr0 = 2, r1 = 3\n<class 'tuple'>\n3 to 4\nr0 = 3, r1 = 4\n<class 'tuple'>\n4 to 5\nr0 = 4, r1 = 5\n<class 'tuple'>\n5 to 6\nr0 = 5, r1 = 6\n<class 'tuple'>\n6 to 7\nr0 = 6, r1 = 7\n<class 'tuple'>\n7 to 8\nr0 = 7, r1 = 8\n<class 'tuple'>\n8 to 9\nr0 = 8, r1 = 9\n<class 'tuple'>\n9 to 10\nr0 = 9, r1 = 10\n"
     ]
    }
   ],
   "source": [
    "a1 = np.random.permutation(np.arange(100))\n",
    "r1 = zip(range(1, 10), range(2, 11))\n",
    "print(r1)\n",
    "for rr in r1:\n",
    "    # rr is tuple\n",
    "    print(type(rr))\n",
    "    print(\"%d to %d\" % rr)\n",
    "    print(\"r0 = %d, r1 = %d\" % (rr[0], rr[1]))\n"
   ]
  },
  {
   "cell_type": "code",
   "execution_count": 60,
   "metadata": {},
   "outputs": [
    {
     "name": "stdout",
     "output_type": "stream",
     "text": [
      "0.1     7.0\n0.2    14.8\n0.3    22.0\n0.4    29.6\n0.5    37.0\n0.6    44.4\n0.7    54.3\n0.8    69.2\n0.9    84.1\n1.0    99.0\ndtype: float64\n[7.0, 14.8, 22.0, 29.6, 37.0, 44.39999999999999, 54.3, 69.2, 84.1, 99.0]\n"
     ]
    }
   ],
   "source": [
    "# pd.Series.quantile sample\n",
    "s1 = pd.Series(np.arange(100))\n",
    "s1 = s1.append(pd.Series(np.arange(50)))\n",
    "# print(s1)\n",
    "r1 = s1.quantile([x for x in np.arange(0.1, 1.1, 0.1)])\n",
    "print(r1)\n",
    "print([r1[q] for q in r1.keys()])"
   ]
  },
  {
   "cell_type": "code",
   "execution_count": null,
   "metadata": {},
   "outputs": [],
   "source": []
  }
 ],
 "metadata": {
  "kernelspec": {
   "display_name": "Python 2",
   "language": "python",
   "name": "python2"
  },
  "language_info": {
   "codemirror_mode": {
    "name": "ipython",
    "version": 2
   },
   "file_extension": ".py",
   "mimetype": "text/x-python",
   "name": "python",
   "nbconvert_exporter": "python",
   "pygments_lexer": "ipython2",
   "version": "2.7.6"
  }
 },
 "nbformat": 4,
 "nbformat_minor": 0
}
