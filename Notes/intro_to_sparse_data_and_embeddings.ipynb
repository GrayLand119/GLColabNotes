{
 "cells": [
  {
   "cell_type": "markdown",
   "metadata": {
    "id": "view-in-github",
    "colab_type": "text"
   },
   "source": [
    "<a href=\"https://colab.research.google.com/github/GrayLand119/GLColabNotes/blob/master/intro_to_sparse_data_and_embeddings.ipynb\" target=\"_parent\"><img src=\"https://colab.research.google.com/assets/colab-badge.svg\" alt=\"Open In Colab\"/></a>"
   ]
  },
  {
   "cell_type": "markdown",
   "metadata": {
    "colab_type": "text",
    "id": "copyright-notice"
   },
   "source": [
    "#### Copyright 2017 Google LLC."
   ]
  },
  {
   "cell_type": "code",
   "execution_count": 0,
   "metadata": {
    "cellView": "both",
    "colab_type": "code",
    "id": "copyright-notice2",
    "colab": {}
   },
   "outputs": [],
   "source": [
    "# Licensed under the Apache License, Version 2.0 (the \"License\");\n",
    "# you may not use this file except in compliance with the License.\n",
    "# You may obtain a copy of the License at\n",
    "#\n",
    "# https://www.apache.org/licenses/LICENSE-2.0\n",
    "#\n",
    "# Unless required by applicable law or agreed to in writing, software\n",
    "# distributed under the License is distributed on an \"AS IS\" BASIS,\n",
    "# WITHOUT WARRANTIES OR CONDITIONS OF ANY KIND, either express or implied.\n",
    "# See the License for the specific language governing permissions and\n",
    "# limitations under the License."
   ]
  },
  {
   "cell_type": "markdown",
   "metadata": {
    "id": "PTaAdgy3LS8W",
    "colab_type": "text"
   },
   "source": [
    " # 稀疏数据和嵌入简介\n",
    "\n",
    "**学习目标：**\n",
    "* 将影评字符串数据转换为稀疏特征矢量\n",
    "* 使用稀疏特征矢量实现情感分析线性模型\n",
    "* 通过将数据投射到二维空间的嵌入来实现情感分析 DNN 模型\n",
    "* 将嵌入可视化，以便查看模型学到的词语之间的关系\n",
    "\n",
    "在此练习中，我们将探讨稀疏数据，并使用影评文本数据（来自 [ACL 2011 IMDB 数据集](http://ai.stanford.edu/~amaas/data/sentiment/)）进行嵌入。这些数据已被处理成 `tf.Example` 格式。"
   ]
  },
  {
   "cell_type": "markdown",
   "metadata": {
    "id": "2AKGtmwNosU8",
    "colab_type": "text"
   },
   "source": [
    " ## 设置\n",
    "\n",
    "我们导入依赖项并下载训练数据和测试数据。[`tf.keras`](https://www.tensorflow.org/api_docs/python/tf/keras) 中包含一个文件下载和缓存工具，我们可以用它来检索数据集。"
   ]
  },
  {
   "cell_type": "code",
   "execution_count": 1,
   "metadata": {
    "id": "jGWqDqFFL_NZ",
    "colab_type": "code",
    "colab": {
     "base_uri": "https://localhost:8080/",
     "height": 85.0
    },
    "outputId": "cf71bf4b-d749-42ba-9794-3ae68d259d39"
   },
   "outputs": [
    {
     "name": "stdout",
     "output_type": "stream",
     "text": [
      "Downloading data from https://download.mlcc.google.cn/mledu-datasets/sparse-data-embedding/train.tfrecord\n",
      "41631744/41625533 [==============================] - 0s 0us/step\n",
      "Downloading data from https://download.mlcc.google.cn/mledu-datasets/sparse-data-embedding/test.tfrecord\n",
      "40689664/40688441 [==============================] - 0s 0us/step\n"
     ]
    }
   ],
   "source": [
    "from __future__ import print_function\n",
    "\n",
    "import collections\n",
    "import io\n",
    "import math\n",
    "\n",
    "import matplotlib.pyplot as plt\n",
    "import numpy as np\n",
    "import pandas as pd\n",
    "import tensorflow as tf\n",
    "from IPython import display\n",
    "from sklearn import metrics\n",
    "\n",
    "tf.logging.set_verbosity(tf.logging.ERROR)\n",
    "train_url = 'https://download.mlcc.google.cn/mledu-datasets/sparse-data-embedding/train.tfrecord'\n",
    "train_path = tf.keras.utils.get_file(train_url.split('/')[-1], train_url)\n",
    "test_url = 'https://download.mlcc.google.cn/mledu-datasets/sparse-data-embedding/test.tfrecord'\n",
    "test_path = tf.keras.utils.get_file(test_url.split('/')[-1], test_url)"
   ]
  },
  {
   "cell_type": "code",
   "execution_count": 3,
   "metadata": {
    "id": "kIGeTdoHvwuN",
    "colab_type": "code",
    "colab": {
     "base_uri": "https://localhost:8080/",
     "height": 34.0
    },
    "outputId": "4b9260e2-15a2-4c56-e353-e3a752b83dc8"
   },
   "outputs": [
    {
     "name": "stdout",
     "output_type": "stream",
     "text": [
      "/root/.keras/datasets/train.tfrecord\n"
     ]
    }
   ],
   "source": [
    "print(train_path)"
   ]
  },
  {
   "cell_type": "code",
   "execution_count": 2,
   "metadata": {
    "id": "mrHj9mfvCR0j",
    "colab_type": "code",
    "colab": {
     "base_uri": "https://localhost:8080/",
     "height": 34.0
    },
    "outputId": "215671ee-6e71-4679-e7d0-7e534dd1d6d5"
   },
   "outputs": [
    {
     "name": "stdout",
     "output_type": "stream",
     "text": [
      "TF imported with eager execution!\n"
     ]
    }
   ],
   "source": [
    "# 直接运行在当前默认图中, 方便观察学习\n",
    "try:\n",
    "    tf.contrib.eager.enable_eager_execution()\n",
    "    print(\"TF imported with eager execution!\")\n",
    "except ValueError:\n",
    "    print(\"TF already imported with eager execution!\")"
   ]
  },
  {
   "cell_type": "code",
   "execution_count": 10,
   "metadata": {
    "id": "-d_Od3ZZcJ3M",
    "colab_type": "code",
    "colab": {
     "base_uri": "https://localhost:8080/",
     "height": 1000.0
    },
    "outputId": "411db1cd-4d13-4b59-da98-e4f1ae4b516f",
    "collapsed": true
   },
   "outputs": [
    {
     "name": "stdout",
     "output_type": "stream",
     "text": [
      "features {\n",
      "  feature {\n",
      "    key: \"labels\"\n",
      "    value {\n",
      "      float_list {\n",
      "        value: 0.0\n",
      "      }\n",
      "    }\n",
      "  }\n",
      "  feature {\n",
      "    key: \"terms\"\n",
      "    value {\n",
      "      bytes_list {\n",
      "        value: \"but\"\n",
      "        value: \"it\"\n",
      "        value: \"does\"\n",
      "        value: \"have\"\n",
      "        value: \"some\"\n",
      "        value: \"good\"\n",
      "        value: \"action\"\n",
      "        value: \"and\"\n",
      "        value: \"a\"\n",
      "        value: \"plot\"\n",
      "        value: \"that\"\n",
      "        value: \"is\"\n",
      "        value: \"somewhat\"\n",
      "        value: \"interesting\"\n",
      "        value: \".\"\n",
      "        value: \"nevsky\"\n",
      "        value: \"acts\"\n",
      "        value: \"like\"\n",
      "        value: \"a\"\n",
      "        value: \"body\"\n",
      "        value: \"builder\"\n",
      "        value: \"and\"\n",
      "        value: \"he\"\n",
      "        value: \"isn\"\n",
      "        value: \"\\'\"\n",
      "        value: \"t\"\n",
      "        value: \"all\"\n",
      "        value: \"that\"\n",
      "        value: \"attractive\"\n",
      "        value: \",\"\n",
      "        value: \"in\"\n",
      "        value: \"fact\"\n",
      "        value: \",\"\n",
      "        value: \"imo\"\n",
      "        value: \",\"\n",
      "        value: \"he\"\n",
      "        value: \"is\"\n",
      "        value: \"ugly\"\n",
      "        value: \".\"\n",
      "        value: \"(\"\n",
      "        value: \"his\"\n",
      "        value: \"acting\"\n",
      "        value: \"skills\"\n",
      "        value: \"lack\"\n",
      "        value: \"everything\"\n",
      "        value: \"!\"\n",
      "        value: \")\"\n",
      "        value: \"sascha\"\n",
      "        value: \"is\"\n",
      "        value: \"played\"\n",
      "        value: \"very\"\n",
      "        value: \"well\"\n",
      "        value: \"by\"\n",
      "        value: \"joanna\"\n",
      "        value: \"pacula\"\n",
      "        value: \",\"\n",
      "        value: \"but\"\n",
      "        value: \"she\"\n",
      "        value: \"needed\"\n",
      "        value: \"more\"\n",
      "        value: \"lines\"\n",
      "        value: \"than\"\n",
      "        value: \"she\"\n",
      "        value: \"was\"\n",
      "        value: \"given\"\n",
      "        value: \",\"\n",
      "        value: \"her\"\n",
      "        value: \"character\"\n",
      "        value: \"needed\"\n",
      "        value: \"to\"\n",
      "        value: \"be\"\n",
      "        value: \"developed\"\n",
      "        value: \".\"\n",
      "        value: \"there\"\n",
      "        value: \"are\"\n",
      "        value: \"way\"\n",
      "        value: \"too\"\n",
      "        value: \"many\"\n",
      "        value: \"men\"\n",
      "        value: \"in\"\n",
      "        value: \"this\"\n",
      "        value: \"story\"\n",
      "        value: \",\"\n",
      "        value: \"there\"\n",
      "        value: \"is\"\n",
      "        value: \"zero\"\n",
      "        value: \"romance\"\n",
      "        value: \",\"\n",
      "        value: \"too\"\n",
      "        value: \"much\"\n",
      "        value: \"action\"\n",
      "        value: \",\"\n",
      "        value: \"and\"\n",
      "        value: \"way\"\n",
      "        value: \"too\"\n",
      "        value: \"dumb\"\n",
      "        value: \"of\"\n",
      "        value: \"an\"\n",
      "        value: \"ending\"\n",
      "        value: \".\"\n",
      "        value: \"it\"\n",
      "        value: \"is\"\n",
      "        value: \"very\"\n",
      "        value: \"violent\"\n",
      "        value: \".\"\n",
      "        value: \"i\"\n",
      "        value: \"did\"\n",
      "        value: \"however\"\n",
      "        value: \"love\"\n",
      "        value: \"the\"\n",
      "        value: \"scenery\"\n",
      "        value: \",\"\n",
      "        value: \"this\"\n",
      "        value: \"movie\"\n",
      "        value: \"takes\"\n",
      "        value: \"you\"\n",
      "        value: \"all\"\n",
      "        value: \"over\"\n",
      "        value: \"the\"\n",
      "        value: \"world\"\n",
      "        value: \",\"\n",
      "        value: \"and\"\n",
      "        value: \"that\"\n",
      "        value: \"is\"\n",
      "        value: \"a\"\n",
      "        value: \"bonus\"\n",
      "        value: \".\"\n",
      "        value: \"i\"\n",
      "        value: \"also\"\n",
      "        value: \"liked\"\n",
      "        value: \"how\"\n",
      "        value: \"it\"\n",
      "        value: \"had\"\n",
      "        value: \"some\"\n",
      "        value: \"stuff\"\n",
      "        value: \"about\"\n",
      "        value: \"the\"\n",
      "        value: \"mafia\"\n",
      "        value: \"in\"\n",
      "        value: \"it\"\n",
      "        value: \",\"\n",
      "        value: \"not\"\n",
      "        value: \"too\"\n",
      "        value: \"much\"\n",
      "        value: \"or\"\n",
      "        value: \"too\"\n",
      "        value: \"little\"\n",
      "        value: \",\"\n",
      "        value: \"but\"\n",
      "        value: \"enough\"\n",
      "        value: \"that\"\n",
      "        value: \"it\"\n",
      "        value: \"got\"\n",
      "        value: \"my\"\n",
      "        value: \"attention\"\n",
      "        value: \".\"\n",
      "        value: \"the\"\n",
      "        value: \"actors\"\n",
      "        value: \"needed\"\n",
      "        value: \"to\"\n",
      "        value: \"be\"\n",
      "        value: \"more\"\n",
      "        value: \"handsome\"\n",
      "        value: \".\"\n",
      "        value: \".\"\n",
      "        value: \".\"\n",
      "        value: \"the\"\n",
      "        value: \"biggest\"\n",
      "        value: \"problem\"\n",
      "        value: \"i\"\n",
      "        value: \"had\"\n",
      "        value: \"was\"\n",
      "        value: \"that\"\n",
      "        value: \"nevsky\"\n",
      "        value: \"was\"\n",
      "        value: \"just\"\n",
      "        value: \"too\"\n",
      "        value: \"normal\"\n",
      "        value: \",\"\n",
      "        value: \"not\"\n",
      "        value: \"sexy\"\n",
      "        value: \"enough\"\n",
      "        value: \".\"\n",
      "        value: \"i\"\n",
      "        value: \"think\"\n",
      "        value: \"for\"\n",
      "        value: \"most\"\n",
      "        value: \"guys\"\n",
      "        value: \",\"\n",
      "        value: \"sascha\"\n",
      "        value: \"will\"\n",
      "        value: \"be\"\n",
      "        value: \"hot\"\n",
      "        value: \"enough\"\n",
      "        value: \",\"\n",
      "        value: \"but\"\n",
      "        value: \"for\"\n",
      "        value: \"us\"\n",
      "        value: \"ladies\"\n",
      "        value: \"that\"\n",
      "        value: \"are\"\n",
      "        value: \"fans\"\n",
      "        value: \"of\"\n",
      "        value: \"action\"\n",
      "        value: \",\"\n",
      "        value: \"nevsky\"\n",
      "        value: \"just\"\n",
      "        value: \"doesn\"\n",
      "        value: \"\\'\"\n",
      "        value: \"t\"\n",
      "        value: \"cut\"\n",
      "        value: \"it\"\n",
      "        value: \".\"\n",
      "        value: \"overall\"\n",
      "        value: \",\"\n",
      "        value: \"this\"\n",
      "        value: \"movie\"\n",
      "        value: \"was\"\n",
      "        value: \"fine\"\n",
      "        value: \",\"\n",
      "        value: \"i\"\n",
      "        value: \"didn\"\n",
      "        value: \"\\'\"\n",
      "        value: \"t\"\n",
      "        value: \"love\"\n",
      "        value: \"it\"\n",
      "        value: \"nor\"\n",
      "        value: \"did\"\n",
      "        value: \"i\"\n",
      "        value: \"hate\"\n",
      "        value: \"it\"\n",
      "        value: \",\"\n",
      "        value: \"just\"\n",
      "        value: \"found\"\n",
      "        value: \"it\"\n",
      "        value: \"to\"\n",
      "        value: \"be\"\n",
      "        value: \"another\"\n",
      "        value: \"normal\"\n",
      "        value: \"action\"\n",
      "        value: \"flick\"\n",
      "        value: \".\"\n",
      "      }\n",
      "    }\n",
      "  }\n",
      "}\n",
      "\n"
     ]
    }
   ],
   "source": [
    "# 读一条数据, 查看其存储的结构, 这里可以发现此数据集有 2 个特征:feature 和 terms\n",
    "record_iterator = tf.python_io.tf_record_iterator(path=train_path)\n",
    "\n",
    "for string_record in record_iterator:\n",
    "  example = tf.train.Example()\n",
    "  example.ParseFromString(string_record)\n",
    "\n",
    "  print(example)\n",
    "\n",
    "  # Exit after 1 iteration as this is purely demonstrative.\n",
    "  break"
   ]
  },
  {
   "cell_type": "markdown",
   "metadata": {
    "id": "6W7aZ9qspZVj",
    "colab_type": "text"
   },
   "source": [
    " ## 构建情感分析模型"
   ]
  },
  {
   "cell_type": "markdown",
   "metadata": {
    "id": "jieA0k_NLS8a",
    "colab_type": "text"
   },
   "source": [
    " 我们根据这些数据训练一个情感分析模型，以预测某条评价总体上是*好评*（标签为 1）还是*差评*（标签为 0）。\n",
    "\n",
    "为此，我们会使用*词汇表*（即我们预计将在数据中看到的每个术语的列表），将字符串值 `terms` 转换为特征矢量。在本练习中，我们创建了侧重于一组有限术语的小型词汇表。其中的大多数术语明确表示是*好评*或*差评*，但有些只是因为有趣而被添加进来。\n",
    "\n",
    "词汇表中的每个术语都与特征矢量中的一个坐标相对应。为了将样本的字符串值 `terms` 转换为这种矢量格式，我们按以下方式处理字符串值：如果该术语没有出现在样本字符串中，则坐标值将为 0；如果出现在样本字符串中，则值为 1。未出现在该词汇表中的样本中的术语将被弃用。"
   ]
  },
  {
   "cell_type": "markdown",
   "metadata": {
    "id": "2HSfklfnLS8b",
    "colab_type": "text"
   },
   "source": [
    " **注意**：*我们当然可以使用更大的词汇表，而且有创建此类词汇表的专用工具。此外，我们可以添加少量的 OOV（未收录词汇）分桶，您可以在其中对词汇表中未包含的术语进行哈希处理，而不仅仅是弃用这些术语。我们还可以使用__特征哈希__法对每个术语进行哈希处理，而不是创建显式词汇表。这在实践中很有效，但却不具备可解读性（这对本练习非常实用）。如需了解处理此类词汇表的工具，请参阅 tf.feature_column 模块。*"
   ]
  },
  {
   "cell_type": "markdown",
   "metadata": {
    "id": "Uvoa2HyDtgqe",
    "colab_type": "text"
   },
   "source": [
    " ## 构建输入管道"
   ]
  },
  {
   "cell_type": "markdown",
   "metadata": {
    "id": "O20vMEOurDol",
    "colab_type": "text"
   },
   "source": [
    " 首先，我们来配置输入管道，以将数据导入 TensorFlow 模型中。我们可以使用以下函数来解析训练数据和测试数据（格式为 [TFRecord](https://www.tensorflow.org/guide/datasets#consuming_tfrecord_data)），然后返回一个由特征和相应标签组成的字典。"
   ]
  },
  {
   "cell_type": "code",
   "execution_count": 0,
   "metadata": {
    "id": "SxxNIEniPq2z",
    "colab_type": "code",
    "colab": {}
   },
   "outputs": [],
   "source": [
    "def _parse_function(record):\n",
    "  \"\"\"Extracts features and labels.\n",
    "  \n",
    "  Args:\n",
    "    record: File path to a TFRecord file    \n",
    "  Returns:\n",
    "    A `tuple` `(labels, features)`:\n",
    "      features: A dict of tensors representing the features\n",
    "      labels: A tensor with the corresponding labels.\n",
    "  \"\"\"\n",
    "  features = {\n",
    "    \"terms\": tf.VarLenFeature(dtype=tf.string), # terms are strings of varying lengths\n",
    "    \"labels\": tf.FixedLenFeature(shape=[1], dtype=tf.float32) # labels are 0 or 1\n",
    "  }\n",
    "  \n",
    "  parsed_features = tf.parse_single_example(record, features)\n",
    "  \n",
    "  terms = parsed_features['terms'].values\n",
    "  labels = parsed_features['labels']\n",
    "\n",
    "  return  {'terms':terms}, labels"
   ]
  },
  {
   "cell_type": "markdown",
   "metadata": {
    "id": "SXhTeeYMrp-l",
    "colab_type": "text"
   },
   "source": [
    " 为了确认函数是否能正常运行，我们为训练数据构建一个 `TFRecordDataset`，并使用上述函数将数据映射到特征和标签。"
   ]
  },
  {
   "cell_type": "code",
   "execution_count": null,
   "metadata": {
    "id": "SxxNIEniPq2z",
    "colab_type": "code",
    "colab": {}
   },
   "outputs": [],
   "source": [
    ""
   ]
  },
  {
   "cell_type": "code",
   "execution_count": 0,
   "metadata": {
    "id": "oF4YWXR0Omt0",
    "colab_type": "code",
    "colab": {}
   },
   "outputs": [],
   "source": [
    "# Create the Dataset object.\n",
    "ds = tf.data.TFRecordDataset(train_path)"
   ]
  },
  {
   "cell_type": "code",
   "execution_count": 10,
   "metadata": {
    "id": "YuM4aN4uwBMb",
    "colab_type": "code",
    "colab": {
     "base_uri": "https://localhost:8080/",
     "height": 649.0
    },
    "outputId": "5ce0d45f-602b-461c-f366-ae27329e61a2",
    "collapsed": true
   },
   "outputs": [
    {
     "name": "stdout",
     "output_type": "stream",
     "text": [
      "tf.Tensor(b\"\\n\\xcf\\n\\n\\x12\\n\\x06labels\\x12\\x08\\x12\\x06\\n\\x04\\x00\\x00\\x00\\x00\\n\\xb8\\n\\n\\x05terms\\x12\\xae\\n\\n\\xab\\n\\n\\x03but\\n\\x02it\\n\\x04does\\n\\x04have\\n\\x04some\\n\\x04good\\n\\x06action\\n\\x03and\\n\\x01a\\n\\x04plot\\n\\x04that\\n\\x02is\\n\\x08somewhat\\n\\x0binteresting\\n\\x01.\\n\\x06nevsky\\n\\x04acts\\n\\x04like\\n\\x01a\\n\\x04body\\n\\x07builder\\n\\x03and\\n\\x02he\\n\\x03isn\\n\\x01'\\n\\x01t\\n\\x03all\\n\\x04that\\n\\nattractive\\n\\x01,\\n\\x02in\\n\\x04fact\\n\\x01,\\n\\x03imo\\n\\x01,\\n\\x02he\\n\\x02is\\n\\x04ugly\\n\\x01.\\n\\x01(\\n\\x03his\\n\\x06acting\\n\\x06skills\\n\\x04lack\\n\\neverything\\n\\x01!\\n\\x01)\\n\\x06sascha\\n\\x02is\\n\\x06played\\n\\x04very\\n\\x04well\\n\\x02by\\n\\x06joanna\\n\\x06pacula\\n\\x01,\\n\\x03but\\n\\x03she\\n\\x06needed\\n\\x04more\\n\\x05lines\\n\\x04than\\n\\x03she\\n\\x03was\\n\\x05given\\n\\x01,\\n\\x03her\\n\\tcharacter\\n\\x06needed\\n\\x02to\\n\\x02be\\n\\tdeveloped\\n\\x01.\\n\\x05there\\n\\x03are\\n\\x03way\\n\\x03too\\n\\x04many\\n\\x03men\\n\\x02in\\n\\x04this\\n\\x05story\\n\\x01,\\n\\x05there\\n\\x02is\\n\\x04zero\\n\\x07romance\\n\\x01,\\n\\x03too\\n\\x04much\\n\\x06action\\n\\x01,\\n\\x03and\\n\\x03way\\n\\x03too\\n\\x04dumb\\n\\x02of\\n\\x02an\\n\\x06ending\\n\\x01.\\n\\x02it\\n\\x02is\\n\\x04very\\n\\x07violent\\n\\x01.\\n\\x01i\\n\\x03did\\n\\x07however\\n\\x04love\\n\\x03the\\n\\x07scenery\\n\\x01,\\n\\x04this\\n\\x05movie\\n\\x05takes\\n\\x03you\\n\\x03all\\n\\x04over\\n\\x03the\\n\\x05world\\n\\x01,\\n\\x03and\\n\\x04that\\n\\x02is\\n\\x01a\\n\\x05bonus\\n\\x01.\\n\\x01i\\n\\x04also\\n\\x05liked\\n\\x03how\\n\\x02it\\n\\x03had\\n\\x04some\\n\\x05stuff\\n\\x05about\\n\\x03the\\n\\x05mafia\\n\\x02in\\n\\x02it\\n\\x01,\\n\\x03not\\n\\x03too\\n\\x04much\\n\\x02or\\n\\x03too\\n\\x06little\\n\\x01,\\n\\x03but\\n\\x06enough\\n\\x04that\\n\\x02it\\n\\x03got\\n\\x02my\\n\\tattention\\n\\x01.\\n\\x03the\\n\\x06actors\\n\\x06needed\\n\\x02to\\n\\x02be\\n\\x04more\\n\\x08handsome\\n\\x01.\\n\\x01.\\n\\x01.\\n\\x03the\\n\\x07biggest\\n\\x07problem\\n\\x01i\\n\\x03had\\n\\x03was\\n\\x04that\\n\\x06nevsky\\n\\x03was\\n\\x04just\\n\\x03too\\n\\x06normal\\n\\x01,\\n\\x03not\\n\\x04sexy\\n\\x06enough\\n\\x01.\\n\\x01i\\n\\x05think\\n\\x03for\\n\\x04most\\n\\x04guys\\n\\x01,\\n\\x06sascha\\n\\x04will\\n\\x02be\\n\\x03hot\\n\\x06enough\\n\\x01,\\n\\x03but\\n\\x03for\\n\\x02us\\n\\x06ladies\\n\\x04that\\n\\x03are\\n\\x04fans\\n\\x02of\\n\\x06action\\n\\x01,\\n\\x06nevsky\\n\\x04just\\n\\x05doesn\\n\\x01'\\n\\x01t\\n\\x03cut\\n\\x02it\\n\\x01.\\n\\x07overall\\n\\x01,\\n\\x04this\\n\\x05movie\\n\\x03was\\n\\x04fine\\n\\x01,\\n\\x01i\\n\\x04didn\\n\\x01'\\n\\x01t\\n\\x04love\\n\\x02it\\n\\x03nor\\n\\x03did\\n\\x01i\\n\\x04hate\\n\\x02it\\n\\x01,\\n\\x04just\\n\\x05found\\n\\x02it\\n\\x02to\\n\\x02be\\n\\x07another\\n\\x06normal\\n\\x06action\\n\\x05flick\\n\\x01.\", shape=(), dtype=string)\n",
      "<tf.Tensor: id=35, shape=(), dtype=string, numpy=b\"\\n\\xcf\\n\\n\\x12\\n\\x06labels\\x12\\x08\\x12\\x06\\n\\x04\\x00\\x00\\x00\\x00\\n\\xb8\\n\\n\\x05terms\\x12\\xae\\n\\n\\xab\\n\\n\\x03but\\n\\x02it\\n\\x04does\\n\\x04have\\n\\x04some\\n\\x04good\\n\\x06action\\n\\x03and\\n\\x01a\\n\\x04plot\\n\\x04that\\n\\x02is\\n\\x08somewhat\\n\\x0binteresting\\n\\x01.\\n\\x06nevsky\\n\\x04acts\\n\\x04like\\n\\x01a\\n\\x04body\\n\\x07builder\\n\\x03and\\n\\x02he\\n\\x03isn\\n\\x01'\\n\\x01t\\n\\x03all\\n\\x04that\\n\\nattractive\\n\\x01,\\n\\x02in\\n\\x04fact\\n\\x01,\\n\\x03imo\\n\\x01,\\n\\x02he\\n\\x02is\\n\\x04ugly\\n\\x01.\\n\\x01(\\n\\x03his\\n\\x06acting\\n\\x06skills\\n\\x04lack\\n\\neverything\\n\\x01!\\n\\x01)\\n\\x06sascha\\n\\x02is\\n\\x06played\\n\\x04very\\n\\x04well\\n\\x02by\\n\\x06joanna\\n\\x06pacula\\n\\x01,\\n\\x03but\\n\\x03she\\n\\x06needed\\n\\x04more\\n\\x05lines\\n\\x04than\\n\\x03she\\n\\x03was\\n\\x05given\\n\\x01,\\n\\x03her\\n\\tcharacter\\n\\x06needed\\n\\x02to\\n\\x02be\\n\\tdeveloped\\n\\x01.\\n\\x05there\\n\\x03are\\n\\x03way\\n\\x03too\\n\\x04many\\n\\x03men\\n\\x02in\\n\\x04this\\n\\x05story\\n\\x01,\\n\\x05there\\n\\x02is\\n\\x04zero\\n\\x07romance\\n\\x01,\\n\\x03too\\n\\x04much\\n\\x06action\\n\\x01,\\n\\x03and\\n\\x03way\\n\\x03too\\n\\x04dumb\\n\\x02of\\n\\x02an\\n\\x06ending\\n\\x01.\\n\\x02it\\n\\x02is\\n\\x04very\\n\\x07violent\\n\\x01.\\n\\x01i\\n\\x03did\\n\\x07however\\n\\x04love\\n\\x03the\\n\\x07scenery\\n\\x01,\\n\\x04this\\n\\x05movie\\n\\x05takes\\n\\x03you\\n\\x03all\\n\\x04over\\n\\x03the\\n\\x05world\\n\\x01,\\n\\x03and\\n\\x04that\\n\\x02is\\n\\x01a\\n\\x05bonus\\n\\x01.\\n\\x01i\\n\\x04also\\n\\x05liked\\n\\x03how\\n\\x02it\\n\\x03had\\n\\x04some\\n\\x05stuff\\n\\x05about\\n\\x03the\\n\\x05mafia\\n\\x02in\\n\\x02it\\n\\x01,\\n\\x03not\\n\\x03too\\n\\x04much\\n\\x02or\\n\\x03too\\n\\x06little\\n\\x01,\\n\\x03but\\n\\x06enough\\n\\x04that\\n\\x02it\\n\\x03got\\n\\x02my\\n\\tattention\\n\\x01.\\n\\x03the\\n\\x06actors\\n\\x06needed\\n\\x02to\\n\\x02be\\n\\x04more\\n\\x08handsome\\n\\x01.\\n\\x01.\\n\\x01.\\n\\x03the\\n\\x07biggest\\n\\x07problem\\n\\x01i\\n\\x03had\\n\\x03was\\n\\x04that\\n\\x06nevsky\\n\\x03was\\n\\x04just\\n\\x03too\\n\\x06normal\\n\\x01,\\n\\x03not\\n\\x04sexy\\n\\x06enough\\n\\x01.\\n\\x01i\\n\\x05think\\n\\x03for\\n\\x04most\\n\\x04guys\\n\\x01,\\n\\x06sascha\\n\\x04will\\n\\x02be\\n\\x03hot\\n\\x06enough\\n\\x01,\\n\\x03but\\n\\x03for\\n\\x02us\\n\\x06ladies\\n\\x04that\\n\\x03are\\n\\x04fans\\n\\x02of\\n\\x06action\\n\\x01,\\n\\x06nevsky\\n\\x04just\\n\\x05doesn\\n\\x01'\\n\\x01t\\n\\x03cut\\n\\x02it\\n\\x01.\\n\\x07overall\\n\\x01,\\n\\x04this\\n\\x05movie\\n\\x03was\\n\\x04fine\\n\\x01,\\n\\x01i\\n\\x04didn\\n\\x01'\\n\\x01t\\n\\x04love\\n\\x02it\\n\\x03nor\\n\\x03did\\n\\x01i\\n\\x04hate\\n\\x02it\\n\\x01,\\n\\x04just\\n\\x05found\\n\\x02it\\n\\x02to\\n\\x02be\\n\\x07another\\n\\x06normal\\n\\x06action\\n\\x05flick\\n\\x01.\">\n",
      "term: {'terms': <tf.Tensor: id=40, shape=(242,), dtype=string, numpy=\n",
      "array([b'but', b'it', b'does', b'have', b'some', b'good', b'action',\n",
      "       b'and', b'a', b'plot', b'that', b'is', b'somewhat', b'interesting',\n",
      "       b'.', b'nevsky', b'acts', b'like', b'a', b'body', b'builder',\n",
      "       b'and', b'he', b'isn', b\"'\", b't', b'all', b'that', b'attractive',\n",
      "       b',', b'in', b'fact', b',', b'imo', b',', b'he', b'is', b'ugly',\n",
      "       b'.', b'(', b'his', b'acting', b'skills', b'lack', b'everything',\n",
      "       b'!', b')', b'sascha', b'is', b'played', b'very', b'well', b'by',\n",
      "       b'joanna', b'pacula', b',', b'but', b'she', b'needed', b'more',\n",
      "       b'lines', b'than', b'she', b'was', b'given', b',', b'her',\n",
      "       b'character', b'needed', b'to', b'be', b'developed', b'.',\n",
      "       b'there', b'are', b'way', b'too', b'many', b'men', b'in', b'this',\n",
      "       b'story', b',', b'there', b'is', b'zero', b'romance', b',', b'too',\n",
      "       b'much', b'action', b',', b'and', b'way', b'too', b'dumb', b'of',\n",
      "       b'an', b'ending', b'.', b'it', b'is', b'very', b'violent', b'.',\n",
      "       b'i', b'did', b'however', b'love', b'the', b'scenery', b',',\n",
      "       b'this', b'movie', b'takes', b'you', b'all', b'over', b'the',\n",
      "       b'world', b',', b'and', b'that', b'is', b'a', b'bonus', b'.', b'i',\n",
      "       b'also', b'liked', b'how', b'it', b'had', b'some', b'stuff',\n",
      "       b'about', b'the', b'mafia', b'in', b'it', b',', b'not', b'too',\n",
      "       b'much', b'or', b'too', b'little', b',', b'but', b'enough',\n",
      "       b'that', b'it', b'got', b'my', b'attention', b'.', b'the',\n",
      "       b'actors', b'needed', b'to', b'be', b'more', b'handsome', b'.',\n",
      "       b'.', b'.', b'the', b'biggest', b'problem', b'i', b'had', b'was',\n",
      "       b'that', b'nevsky', b'was', b'just', b'too', b'normal', b',',\n",
      "       b'not', b'sexy', b'enough', b'.', b'i', b'think', b'for', b'most',\n",
      "       b'guys', b',', b'sascha', b'will', b'be', b'hot', b'enough', b',',\n",
      "       b'but', b'for', b'us', b'ladies', b'that', b'are', b'fans', b'of',\n",
      "       b'action', b',', b'nevsky', b'just', b'doesn', b\"'\", b't', b'cut',\n",
      "       b'it', b'.', b'overall', b',', b'this', b'movie', b'was', b'fine',\n",
      "       b',', b'i', b'didn', b\"'\", b't', b'love', b'it', b'nor', b'did',\n",
      "       b'i', b'hate', b'it', b',', b'just', b'found', b'it', b'to', b'be',\n",
      "       b'another', b'normal', b'action', b'flick', b'.'], dtype=object)>}\n",
      "label: tf.Tensor([0.], shape=(1,), dtype=float32)\n"
     ]
    }
   ],
   "source": [
    "for x in ds.take(1):\n",
    "  # 解析数据\n",
    "  \"\"\"\n",
    "  Args:\n",
    "  serialized: A scalar string Tensor, a single serialized Example.  \n",
    "    See `_parse_single_example_raw` documentation for more details.  \n",
    "  features: A `dict` mapping feature keys to `FixedLenFeature` or  \n",
    "    `VarLenFeature` values.  \n",
    "  name: A name for this operation (optional).  \n",
    "  example_names: (Optional) A scalar string Tensor, the associated name.  \n",
    "    See `_parse_single_example_raw` documentation for more details.  \n",
    "  \"\"\"m\n",
    "  # features = {\n",
    "  #   \"terms\": tf.VarLenFeature(dtype=tf.string), # terms are strings of varying lengths\n",
    "  #   \"labels\": tf.FixedLenFeature(shape=[1], dtype=tf.float32) # labels are 0 or 1\n",
    "  # }\n",
    "  \n",
    "  # parsed_features = tf.parse_single_example(x, features)\n",
    "  \n",
    "  # terms = parsed_features['terms'].values\n",
    "  # labels = parsed_features['labels']\n",
    "  # print(terms)\n",
    "  # print(labels)\n",
    "  print(x)\n",
    "  print(repr(x))\n",
    "  term, label = _parse_function(x)\n",
    "  print('term:', term)\n",
    "  print('label:', label)\n",
    "  # example_proto = tf.train.Example.FromString(x)\n",
    "  # print(example_proto)\n"
   ]
  },
  {
   "cell_type": "code",
   "execution_count": 7,
   "metadata": {
    "id": "yW8WmpPAVGKW",
    "colab_type": "code",
    "colab": {
     "base_uri": "https://localhost:8080/",
     "height": 218.0
    },
    "outputId": "3611e1a0-9bdb-439d-f376-239c45af5ddb"
   },
   "outputs": [
    {
     "ename": "UnicodeDecodeError",
     "evalue": "ignored",
     "traceback": [
      "\u001b[0;31m---------------------------------------------------------------------------\u001b[0m",
      "\u001b[0;31mUnicodeDecodeError\u001b[0m                        Traceback (most recent call last)",
      "\u001b[0;32m<ipython-input-7-6aea4869e6ec>\u001b[0m in \u001b[0;36m<module>\u001b[0;34m()\u001b[0m\n\u001b[1;32m      1\u001b[0m \u001b[0ma\u001b[0m \u001b[0;34m=\u001b[0m \u001b[0;34mb\"\\n\\xcf\\n\\n\\x12\\n\\x06labels\\x12\\x08\\x12\\x06\\n\\x04\\x00\\x00\\x00\\x00\\n\\xb8\\n\\n\\x05terms\\x12\\xae\\n\\n\\xab\\n\\n\\x03but\\n\\x02it\\n\\x04does\\n\\x04have\\n\\x04some\\n\\x04good\\n\\x06action\\n\\x03and\\n\\x01a\\n\\x04plot\\n\\x04that\\n\\x02is\\n\\x08somewhat\\n\\x0binteresting\\n\\x01.\\n\\x06nevsky\\n\\x04acts\\n\\x04like\\n\\x01a\\n\\x04body\\n\\x07builder\\n\\x03and\\n\\x02he\\n\\x03isn\\n\\x01'\\n\\x01t\\n\\x03all\\n\\x04that\\n\\nattractive\\n\\x01,\\n\\x02in\\n\\x04fact\\n\\x01,\\n\\x03imo\\n\\x01,\\n\\x02he\\n\\x02is\\n\\x04ugly\\n\\x01.\\n\\x01(\\n\\x03his\\n\\x06acting\\n\\x06skills\\n\\x04lack\\n\\neverything\\n\\x01!\\n\\x01)\\n\\x06sascha\\n\\x02is\\n\\x06played\\n\\x04very\\n\\x04well\\n\\x02by\\n\\x06joanna\\n\\x06pacula\\n\\x01,\\n\\x03but\\n\\x03she\\n\\x06needed\\n\\x04more\\n\\x05lines\\n\\x04than\\n\\x03she\\n\\x03was\\n\\x05given\\n\\x01,\\n\\x03her\\n\\tcharacter\\n\\x06needed\\n\\x02to\\n\\x02be\\n\\tdeveloped\\n\\x01.\\n\\x05there\\n\\x03are\\n\\x03way\\n\\x03too\\n\\x04many\\n\\x03men\\n\\x02in\\n\\x04this\\n\\x05story\\n\\x01,\\n\\x05there\\n\\x02is\\n\\x04zero\\n\\x07romance\\n\\x01,\\n\\x03too\\n\\x04much\\n\\x06action\\n\\x01,\\n\\x03and\\n\\x03way\\n\\x03too\\n\\x04dumb\\n\\x02of\\n\\x02an\\n\\x06ending\\n\\x01.\\n\\x02it\\n\\x02is\\n\\x04very\\n\\x07violent\\n\\x01.\\n\\x01i\\n\\x03did\\n\\x07however\\n\\x04love\\n\\x03the\\n\\x07scenery\\n\\x01,\\n\\x04this\\n\\x05movie\\n\\x05takes\\n\\x03you\\n\\x03all\\n\\x04over\\n\\x03the\\n\\x05world\\n\\x01,\\n\\x03and\\n\\x04that\\n\\x02is\\n\\x01a\\n\\x05bonus\\n\\x01.\\n\\x01i\\n\\x04also\\n\\x05liked\\n\\x03how\\n\\x02it\\n\\x03had\\n\\x04some\\n\\x05stuff\\n\\x05about\\n\\x03the\\n\\x05mafia\\n\\x02in\\n\\x02it\\n\\x01,\\n\\x03no...\n\u001b[0;32m----> 2\u001b[0;31m \u001b[0mb\u001b[0m \u001b[0;34m=\u001b[0m \u001b[0ma\u001b[0m\u001b[0;34m.\u001b[0m\u001b[0mdecode\u001b[0m\u001b[0;34m(\u001b[0m\u001b[0;34m)\u001b[0m\u001b[0;34m\u001b[0m\u001b[0;34m\u001b[0m\u001b[0m\n\u001b[0m\u001b[1;32m      3\u001b[0m \u001b[0mb\u001b[0m\u001b[0;34m\u001b[0m\u001b[0;34m\u001b[0m\u001b[0m\n",
      "\u001b[0;31mUnicodeDecodeError\u001b[0m: 'utf-8' codec can't decode byte 0xcf in position 1: invalid continuation byte"
     ],
     "output_type": "error"
    }
   ],
   "source": [
    "# 无法直接解析\n",
    "a = b\"\\n\\xcf\\n\\n\\x12\\n\\x06labels\\x12\\x08\\x12\\x06\\n\\x04\\x00\\x00\\x00\\x00\\n\\xb8\\n\\n\\x05terms\\x12\\xae\\n\\n\\xab\\n\\n\\x03but\\n\\x02it\\n\\x04does\\n\\x04have\\n\\x04some\\n\\x04good\\n\\x06action\\n\\x03and\\n\\x01a\\n\\x04plot\\n\\x04that\\n\\x02is\\n\\x08somewhat\\n\\x0binteresting\\n\\x01.\\n\\x06nevsky\\n\\x04acts\\n\\x04like\\n\\x01a\\n\\x04body\\n\\x07builder\\n\\x03and\\n\\x02he\\n\\x03isn\\n\\x01'\\n\\x01t\\n\\x03all\\n\\x04that\\n\\nattractive\\n\\x01,\\n\\x02in\\n\\x04fact\\n\\x01,\\n\\x03imo\\n\\x01,\\n\\x02he\\n\\x02is\\n\\x04ugly\\n\\x01.\\n\\x01(\\n\\x03his\\n\\x06acting\\n\\x06skills\\n\\x04lack\\n\\neverything\\n\\x01!\\n\\x01)\\n\\x06sascha\\n\\x02is\\n\\x06played\\n\\x04very\\n\\x04well\\n\\x02by\\n\\x06joanna\\n\\x06pacula\\n\\x01,\\n\\x03but\\n\\x03she\\n\\x06needed\\n\\x04more\\n\\x05lines\\n\\x04than\\n\\x03she\\n\\x03was\\n\\x05given\\n\\x01,\\n\\x03her\\n\\tcharacter\\n\\x06needed\\n\\x02to\\n\\x02be\\n\\tdeveloped\\n\\x01.\\n\\x05there\\n\\x03are\\n\\x03way\\n\\x03too\\n\\x04many\\n\\x03men\\n\\x02in\\n\\x04this\\n\\x05story\\n\\x01,\\n\\x05there\\n\\x02is\\n\\x04zero\\n\\x07romance\\n\\x01,\\n\\x03too\\n\\x04much\\n\\x06action\\n\\x01,\\n\\x03and\\n\\x03way\\n\\x03too\\n\\x04dumb\\n\\x02of\\n\\x02an\\n\\x06ending\\n\\x01.\\n\\x02it\\n\\x02is\\n\\x04very\\n\\x07violent\\n\\x01.\\n\\x01i\\n\\x03did\\n\\x07however\\n\\x04love\\n\\x03the\\n\\x07scenery\\n\\x01,\\n\\x04this\\n\\x05movie\\n\\x05takes\\n\\x03you\\n\\x03all\\n\\x04over\\n\\x03the\\n\\x05world\\n\\x01,\\n\\x03and\\n\\x04that\\n\\x02is\\n\\x01a\\n\\x05bonus\\n\\x01.\\n\\x01i\\n\\x04also\\n\\x05liked\\n\\x03how\\n\\x02it\\n\\x03had\\n\\x04some\\n\\x05stuff\\n\\x05about\\n\\x03the\\n\\x05mafia\\n\\x02in\\n\\x02it\\n\\x01,\\n\\x03not\\n\\x03too\\n\\x04much\\n\\x02or\\n\\x03too\\n\\x06little\\n\\x01,\\n\\x03but\\n\\x06enough\\n\\x04that\\n\\x02it\\n\\x03got\\n\\x02my\\n\\tattention\\n\\x01.\\n\\x03the\\n\\x06actors\\n\\x06needed\\n\\x02to\\n\\x02be\\n\\x04more\\n\\x08handsome\\n\\x01.\\n\\x01.\\n\\x01.\\n\\x03the\\n\\x07biggest\\n\\x07problem\\n\\x01i\\n\\x03had\\n\\x03was\\n\\x04that\\n\\x06nevsky\\n\\x03was\\n\\x04just\\n\\x03too\\n\\x06normal\\n\\x01,\\n\\x03not\\n\\x04sexy\\n\\x06enough\\n\\x01.\\n\\x01i\\n\\x05think\\n\\x03for\\n\\x04most\\n\\x04guys\\n\\x01,\\n\\x06sascha\\n\\x04will\\n\\x02be\\n\\x03hot\\n\\x06enough\\n\\x01,\\n\\x03but\\n\\x03for\\n\\x02us\\n\\x06ladies\\n\\x04that\\n\\x03are\\n\\x04fans\\n\\x02of\\n\\x06action\\n\\x01,\\n\\x06nevsky\\n\\x04just\\n\\x05doesn\\n\\x01'\\n\\x01t\\n\\x03cut\\n\\x02it\\n\\x01.\\n\\x07overall\\n\\x01,\\n\\x04this\\n\\x05movie\\n\\x03was\\n\\x04fine\\n\\x01,\\n\\x01i\\n\\x04didn\\n\\x01'\\n\\x01t\\n\\x04love\\n\\x02it\\n\\x03nor\\n\\x03did\\n\\x01i\\n\\x04hate\\n\\x02it\\n\\x01,\\n\\x04just\\n\\x05found\\n\\x02it\\n\\x02to\\n\\x02be\\n\\x07another\\n\\x06normal\\n\\x06action\\n\\x05flick\\n\\x01.\"\n",
    "b = a.decode()\n",
    "b"
   ]
  },
  {
   "cell_type": "markdown",
   "metadata": {
    "id": "bUoMvK-9tVXP",
    "colab_type": "text"
   },
   "source": [
    " 运行以下单元，以从训练数据集中获取第一个样本。"
   ]
  },
  {
   "cell_type": "code",
   "execution_count": 11,
   "metadata": {
    "id": "Z6QE2DWRUc4E",
    "colab_type": "code",
    "colab": {
     "base_uri": "https://localhost:8080/",
     "height": 54.0
    },
    "outputId": "fe89d758-a20d-43ed-f41e-0dc9fd7fbfe7"
   },
   "outputs": [
    {
     "data": {
      "text/plain": [
       "<tf.Tensor: id=46, shape=(), dtype=string, numpy=b\"\\n\\xcf\\n\\n\\x12\\n\\x06labels\\x12\\x08\\x12\\x06\\n\\x04\\x00\\x00\\x00\\x00\\n\\xb8\\n\\n\\x05terms\\x12\\xae\\n\\n\\xab\\n\\n\\x03but\\n\\x02it\\n\\x04does\\n\\x04have\\n\\x04some\\n\\x04good\\n\\x06action\\n\\x03and\\n\\x01a\\n\\x04plot\\n\\x04that\\n\\x02is\\n\\x08somewhat\\n\\x0binteresting\\n\\x01.\\n\\x06nevsky\\n\\x04acts\\n\\x04like\\n\\x01a\\n\\x04body\\n\\x07builder\\n\\x03and\\n\\x02he\\n\\x03isn\\n\\x01'\\n\\x01t\\n\\x03all\\n\\x04that\\n\\nattractive\\n\\x01,\\n\\x02in\\n\\x04fact\\n\\x01,\\n\\x03imo\\n\\x01,\\n\\x02he\\n\\x02is\\n\\x04ugly\\n\\x01.\\n\\x01(\\n\\x03his\\n\\x06acting\\n\\x06skills\\n\\x04lack\\n\\neverything\\n\\x01!\\n\\x01)\\n\\x06sascha\\n\\x02is\\n\\x06played\\n\\x04very\\n\\x04well\\n\\x02by\\n\\x06joanna\\n\\x06pacula\\n\\x01,\\n\\x03but\\n\\x03she\\n\\x06needed\\n\\x04more\\n\\x05lines\\n\\x04than\\n\\x03she\\n\\x03was\\n\\x05given\\n\\x01,\\n\\x03her\\n\\tcharacter\\n\\x06needed\\n\\x02to\\n\\x02be\\n\\tdeveloped\\n\\x01.\\n\\x05there\\n\\x03are\\n\\x03way\\n\\x03too\\n\\x04many\\n\\x03men\\n\\x02in\\n\\x04this\\n\\x05story\\n\\x01,\\n\\x05there\\n\\x02is\\n\\x04zero\\n\\x07romance\\n\\x01,\\n\\x03too\\n\\x04much\\n\\x06action\\n\\x01,\\n\\x03and\\n\\x03way\\n\\x03too\\n\\x04dumb\\n\\x02of\\n\\x02an\\n\\x06ending\\n\\x01.\\n\\x02it\\n\\x02is\\n\\x04very\\n\\x07violent\\n\\x01.\\n\\x01i\\n\\x03did\\n\\x07however\\n\\x04love\\n\\x03the\\n\\x07scenery\\n\\x01,\\n\\x04this\\n\\x05movie\\n\\x05takes\\n\\x03you\\n\\x03all\\n\\x04over\\n\\x03the\\n\\x05world\\n\\x01,\\n\\x03and\\n\\x04that\\n\\x02is\\n\\x01a\\n\\x05bonus\\n\\x01.\\n\\x01i\\n\\x04also\\n\\x05liked\\n\\x03how\\n\\x02it\\n\\x03had\\n\\x04some\\n\\x05stuff\\n\\x05about\\n\\x03the\\n\\x05mafia\\n\\x02in\\n\\x02it\\n\\x01,\\n\\x03not\\n\\x03too\\n\\x04much\\n\\x02or\\n\\x03too\\n\\x06little\\n\\x01,\\n\\x03but\\n\\x06enough\\n\\x04that\\n\\x02it\\n\\x03got\\n\\x02my\\n\\tattention\\n\\x01.\\n\\x03the\\n\\x06actors\\n\\x06needed\\n\\x02to\\n\\x02be\\n\\x04more\\n\\x08handsome\\n\\x01.\\n\\x01.\\n\\x01.\\n\\x03the\\n\\x07biggest\\n\\x07problem\\n\\x01i\\n\\x03had\\n\\x03was\\n\\x04that\\n\\x06nevsky\\n\\x03was\\n\\x04just\\n\\x03too\\n\\x06normal\\n\\x01,\\n\\x03not\\n\\x04sexy\\n\\x06enough\\n\\x01.\\n\\x01i\\n\\x05think\\n\\x03for\\n\\x04most\\n\\x04guys\\n\\x01,\\n\\x06sascha\\n\\x04will\\n\\x02be\\n\\x03hot\\n\\x06enough\\n\\x01,\\n\\x03but\\n\\x03for\\n\\x02us\\n\\x06ladies\\n\\x04that\\n\\x03are\\n\\x04fans\\n\\x02of\\n\\x06action\\n\\x01,\\n\\x06nevsky\\n\\x04just\\n\\x05doesn\\n\\x01'\\n\\x01t\\n\\x03cut\\n\\x02it\\n\\x01.\\n\\x07overall\\n\\x01,\\n\\x04this\\n\\x05movie\\n\\x03was\\n\\x04fine\\n\\x01,\\n\\x01i\\n\\x04didn\\n\\x01'\\n\\x01t\\n\\x04love\\n\\x02it\\n\\x03nor\\n\\x03did\\n\\x01i\\n\\x04hate\\n\\x02it\\n\\x01,\\n\\x04just\\n\\x05found\\n\\x02it\\n\\x02to\\n\\x02be\\n\\x07another\\n\\x06normal\\n\\x06action\\n\\x05flick\\n\\x01.\">"
      ]
     },
     "execution_count": 11,
     "metadata": {
      "tags": []
     },
     "output_type": "execute_result"
    }
   ],
   "source": [
    "n = ds.make_one_shot_iterator().get_next()\n",
    "# sess = tf.Session()\n",
    "# sess.run(n)\n",
    "n"
   ]
  },
  {
   "cell_type": "markdown",
   "metadata": {
    "id": "jBU39UeFty9S",
    "colab_type": "text"
   },
   "source": [
    " 现在，我们构建一个正式的输入函数，可以将其传递给 TensorFlow Estimator 对象的 `train()` 方法。"
   ]
  },
  {
   "cell_type": "code",
   "execution_count": 0,
   "metadata": {
    "id": "5_C5-ueNYIn_",
    "colab_type": "code",
    "colab": {}
   },
   "outputs": [],
   "source": [
    "# Create an input_fn that parses the tf.Examples from the given files,\n",
    "# and split them into features and targets.\n",
    "def _input_fn(input_filenames, num_epochs=None, shuffle=True):\n",
    "  \n",
    "  # Same code as above; create a dataset and map features and labels.\n",
    "  ds = tf.data.TFRecordDataset(input_filenames)\n",
    "  ds = ds.map(_parse_function)\n",
    "\n",
    "  if shuffle:\n",
    "    ds = ds.shuffle(10000)\n",
    "\n",
    "  # Our feature data is variable-length, so we pad and batch\n",
    "  # each field of the dataset structure to whatever size is necessary.     \n",
    "  ds = ds.padded_batch(25, ds.output_shapes)\n",
    "  \n",
    "  ds = ds.repeat(num_epochs)\n",
    "\n",
    "  \n",
    "  # Return the next batch of data.\n",
    "  features, labels = ds.make_one_shot_iterator().get_next()\n",
    "  return features, labels"
   ]
  },
  {
   "cell_type": "markdown",
   "metadata": {
    "id": "Y170tVlrLS8c",
    "colab_type": "text"
   },
   "source": [
    " ## 任务 1：使用具有稀疏输入和显式词汇表的线性模型\n",
    "\n",
    "对于我们的第一个模型，我们将使用 50 个信息性术语来构建 [`LinearClassifier`](https://www.tensorflow.org/api_docs/python/tf/estimator/LinearClassifier) 模型；始终从简单入手！\n",
    "\n",
    "以下代码将为我们的术语构建特征列。[`categorical_column_with_vocabulary_list`](https://www.tensorflow.org/api_docs/python/tf/feature_column/categorical_column_with_vocabulary_list) 函数可使用“字符串-特征矢量”映射来创建特征列。"
   ]
  },
  {
   "cell_type": "code",
   "execution_count": 0,
   "metadata": {
    "id": "B5gdxuWsvPcx",
    "colab_type": "code",
    "colab": {}
   },
   "outputs": [],
   "source": [
    "# 50 informative terms that compose our model vocabulary. \n",
    "informative_terms = (\"bad\", \"great\", \"best\", \"worst\", \"fun\", \"beautiful\",\n",
    "                     \"excellent\", \"poor\", \"boring\", \"awful\", \"terrible\",\n",
    "                     \"definitely\", \"perfect\", \"liked\", \"worse\", \"waste\",\n",
    "                     \"entertaining\", \"loved\", \"unfortunately\", \"amazing\",\n",
    "                     \"enjoyed\", \"favorite\", \"horrible\", \"brilliant\", \"highly\",\n",
    "                     \"simple\", \"annoying\", \"today\", \"hilarious\", \"enjoyable\",\n",
    "                     \"dull\", \"fantastic\", \"poorly\", \"fails\", \"disappointing\",\n",
    "                     \"disappointment\", \"not\", \"him\", \"her\", \"good\", \"time\",\n",
    "                     \"?\", \".\", \"!\", \"movie\", \"film\", \"action\", \"comedy\",\n",
    "                     \"drama\", \"family\")\n",
    "\n",
    "terms_feature_column = tf.feature_column.categorical_column_with_vocabulary_list(key=\"terms\", vocabulary_list=informative_terms)"
   ]
  },
  {
   "cell_type": "markdown",
   "metadata": {
    "id": "eTiDwyorwd3P",
    "colab_type": "text"
   },
   "source": [
    " 接下来，我们将构建 `LinearClassifier`，在训练集中训练该模型，并在评估集中对其进行评估。阅读上述代码后，运行该模型以了解其效果。"
   ]
  },
  {
   "cell_type": "code",
   "execution_count": 5,
   "metadata": {
    "id": "7mcd2E3qDL4A",
    "colab_type": "code",
    "colab": {
     "base_uri": "https://localhost:8080/",
     "height": 54.0
    },
    "outputId": "5e5e26e1-d371-47d1-80ef-4c1f7463f4d7"
   },
   "outputs": [
    {
     "data": {
      "text/plain": [
       "VocabularyListCategoricalColumn(key='terms', vocabulary_list=('bad', 'great', 'best', 'worst', 'fun', 'beautiful', 'excellent', 'poor', 'boring', 'awful', 'terrible', 'definitely', 'perfect', 'liked', 'worse', 'waste', 'entertaining', 'loved', 'unfortunately', 'amazing', 'enjoyed', 'favorite', 'horrible', 'brilliant', 'highly', 'simple', 'annoying', 'today', 'hilarious', 'enjoyable', 'dull', 'fantastic', 'poorly', 'fails', 'disappointing', 'disappointment', 'not', 'him', 'her', 'good', 'time', '?', '.', '!', 'movie', 'film', 'action', 'comedy', 'drama', 'family'), dtype=tf.string, default_value=-1, num_oov_buckets=0)"
      ]
     },
     "execution_count": 5,
     "metadata": {
      "tags": []
     },
     "output_type": "execute_result"
    }
   ],
   "source": [
    "terms_feature_column"
   ]
  },
  {
   "cell_type": "code",
   "execution_count": 11,
   "metadata": {
    "id": "HYKKpGLqLS8d",
    "colab_type": "code",
    "colab": {
     "base_uri": "https://localhost:8080/",
     "height": 459.0
    },
    "outputId": "93d25daf-8508-4627-ec63-1185df6c425a",
    "collapsed": true
   },
   "outputs": [
    {
     "name": "stdout",
     "output_type": "stream",
     "text": [
      "Training set metrics:\n",
      "accuracy 0.78492\n",
      "accuracy_baseline 0.5\n",
      "auc 0.8700489\n",
      "auc_precision_recall 0.8586107\n",
      "average_loss 0.45741215\n",
      "label/mean 0.5\n",
      "loss 11.435304\n",
      "precision 0.7390429\n",
      "prediction/mean 0.5384785\n",
      "recall 0.88088\n",
      "global_step 1000\n",
      "---\n",
      "Test set metrics:\n",
      "accuracy 0.782\n",
      "accuracy_baseline 0.5\n",
      "auc 0.8688421\n",
      "auc_precision_recall 0.8561907\n",
      "average_loss 0.45698395\n",
      "label/mean 0.5\n",
      "loss 11.424599\n",
      "precision 0.7373098\n",
      "prediction/mean 0.53642154\n",
      "recall 0.87616\n",
      "global_step 1000\n",
      "---\n"
     ]
    }
   ],
   "source": [
    "my_optimizer = tf.train.AdagradOptimizer(learning_rate=0.1)\n",
    "my_optimizer = tf.contrib.estimator.clip_gradients_by_norm(my_optimizer, 5.0)\n",
    "\n",
    "feature_columns = [terms_feature_column]\n",
    "\n",
    "classifier = tf.estimator.LinearClassifier(\n",
    "    feature_columns=feature_columns,\n",
    "    optimizer=my_optimizer,\n",
    ")\n",
    "\n",
    "classifier.train(\n",
    "    input_fn=lambda: _input_fn([train_path]),\n",
    "    steps=1000)\n",
    "\n",
    "evaluation_metrics = classifier.evaluate(\n",
    "    input_fn=lambda: _input_fn([train_path]),\n",
    "    steps=1000)\n",
    "print(\"Training set metrics:\")\n",
    "for m in evaluation_metrics:\n",
    "    print(m, evaluation_metrics[m])\n",
    "print(\"---\")\n",
    "\n",
    "evaluation_metrics = classifier.evaluate(\n",
    "    input_fn=lambda: _input_fn([test_path]),\n",
    "    steps=1000)\n",
    "\n",
    "print(\"Test set metrics:\")\n",
    "for m in evaluation_metrics:\n",
    "    print(m, evaluation_metrics[m])\n",
    "print(\"---\")\n"
   ]
  },
  {
   "cell_type": "markdown",
   "metadata": {
    "id": "J0ubn9gULS8g",
    "colab_type": "text"
   },
   "source": [
    " ## 任务 2：使用深度神经网络 (DNN) 模型\n",
    "\n",
    "上述模型是一个线性模型，效果非常好。但是，我们可以使用 DNN 模型实现更好的效果吗？\n",
    "\n",
    "我们将 `LinearClassifier` 切换为 [`DNNClassifier`](https://www.tensorflow.org/api_docs/python/tf/estimator/DNNClassifier)。运行以下单元，看看您的模型效果如何。"
   ]
  },
  {
   "cell_type": "code",
   "execution_count": 12,
   "metadata": {
    "id": "jcgOPfEALS8h",
    "colab_type": "code",
    "colab": {
     "base_uri": "https://localhost:8080/",
     "height": 459.0
    },
    "outputId": "7f97790e-b51f-43a9-cb16-51ecbd0d928d",
    "collapsed": false
   },
   "outputs": [
    {
     "name": "stdout",
     "output_type": "stream",
     "text": [
      "Training set metrics:\n",
      "accuracy 0.76\n",
      "accuracy_baseline 0.64\n",
      "auc 0.82986104\n",
      "auc_precision_recall 0.7536074\n",
      "average_loss 0.5314763\n",
      "label/mean 0.36\n",
      "loss 13.286908\n",
      "precision 0.61538464\n",
      "prediction/mean 0.4847187\n",
      "recall 0.8888889\n",
      "global_step 1000\n",
      "---\n",
      "Test set metrics:\n",
      "accuracy 0.88\n",
      "accuracy_baseline 0.52\n",
      "auc 0.91987175\n",
      "auc_precision_recall 0.9468764\n",
      "average_loss 0.32047257\n",
      "label/mean 0.48\n",
      "loss 8.011814\n",
      "precision 0.84615386\n",
      "prediction/mean 0.5144678\n",
      "recall 0.9166667\n",
      "global_step 1000\n",
      "---\n"
     ]
    }
   ],
   "source": [
    "##################### Here's what we changed ##################################\n",
    "classifier = tf.estimator.DNNClassifier(                                      #\n",
    "  feature_columns=[tf.feature_column.indicator_column(terms_feature_column)], #\n",
    "  hidden_units=[20,20],                                                       #\n",
    "  optimizer=my_optimizer,                                                     #\n",
    ")                                                                             #\n",
    "###############################################################################\n",
    "\n",
    "try:\n",
    "  classifier.train(\n",
    "    input_fn=lambda: _input_fn([train_path]),\n",
    "    steps=1000)\n",
    "\n",
    "  evaluation_metrics = classifier.evaluate(\n",
    "    input_fn=lambda: _input_fn([train_path]),\n",
    "    steps=1)\n",
    "  print(\"Training set metrics:\")\n",
    "  for m in evaluation_metrics:\n",
    "    print(m, evaluation_metrics[m])\n",
    "  print(\"---\")\n",
    "\n",
    "  evaluation_metrics = classifier.evaluate(\n",
    "    input_fn=lambda: _input_fn([test_path]),\n",
    "    steps=1)\n",
    "\n",
    "  print(\"Test set metrics:\")\n",
    "  for m in evaluation_metrics:\n",
    "    print(m, evaluation_metrics[m])\n",
    "  print(\"---\")\n",
    "except ValueError as err:\n",
    "  print(err)"
   ]
  },
  {
   "cell_type": "markdown",
   "metadata": {
    "id": "cZz68luxLS8j",
    "colab_type": "text"
   },
   "source": [
    " ## 任务 3：在 DNN 模型中使用嵌入\n",
    "\n",
    "在此任务中，我们将使用嵌入列来实现 DNN 模型。嵌入列会将稀疏数据作为输入，并返回一个低维度密集矢量作为输出。"
   ]
  },
  {
   "cell_type": "markdown",
   "metadata": {
    "id": "AliRzhvJLS8k",
    "colab_type": "text"
   },
   "source": [
    " **注意**：*从计算方面而言，embedding_column 通常是用于在稀疏数据中训练模型最有效的选项。在此练习末尾的[可选部分](#scrollTo=XDMlGgRfKSVz)，我们将更深入地讨论使用 `embedding_column` 与 `indicator_column` 之间的实现差异，以及如何在这两者之间做出权衡。*"
   ]
  },
  {
   "cell_type": "markdown",
   "metadata": {
    "id": "F-as3PtALS8l",
    "colab_type": "text"
   },
   "source": [
    " 在下面的代码中，执行以下操作：\n",
    "\n",
    "* 通过将数据投射到二维空间的 `embedding_column` 来为模型定义特征列（如需详细了解 `embedding_column` 的函数签名，请参阅相关 [TF 文档](https://www.tensorflow.org/api_docs/python/tf/feature_column/embedding_column)）。\n",
    "* 定义符合以下规范的 `DNNClassifier`：\n",
    "  * 具有两个隐藏层，每个包含 20 个单元\n",
    "  * 采用学习速率为 0.1 的 AdaGrad 优化方法\n",
    "  * `gradient_clip_norm 值为 5.0`"
   ]
  },
  {
   "cell_type": "markdown",
   "metadata": {
    "id": "UlPZ-Q9bLS8m",
    "colab_type": "text"
   },
   "source": [
    " **注意**：*在实践中，我们可能会将数据投射到 2 维以上（比如 50 或 100）的空间中。但就目前而言，2 维是比较容易可视化的维数。*"
   ]
  },
  {
   "cell_type": "markdown",
   "metadata": {
    "id": "mNCLhxsXyOIS",
    "colab_type": "text"
   },
   "source": [
    " ### 提示"
   ]
  },
  {
   "cell_type": "code",
   "execution_count": 14,
   "metadata": {
    "id": "L67xYD7hLS8m",
    "colab_type": "code",
    "colab": {
     "base_uri": "https://localhost:8080/",
     "height": 54.0
    },
    "outputId": "9f9eff3d-c959-4dcf-9bdb-8621579711ae"
   },
   "outputs": [
    {
     "name": "stdout",
     "output_type": "stream",
     "text": [
      "EmbeddingColumn(categorical_column=VocabularyListCategoricalColumn(key='terms', vocabulary_list=('bad', 'great', 'best', 'worst', 'fun', 'beautiful', 'excellent', 'poor', 'boring', 'awful', 'terrible', 'definitely', 'perfect', 'liked', 'worse', 'waste', 'entertaining', 'loved', 'unfortunately', 'amazing', 'enjoyed', 'favorite', 'horrible', 'brilliant', 'highly', 'simple', 'annoying', 'today', 'hilarious', 'enjoyable', 'dull', 'fantastic', 'poorly', 'fails', 'disappointing', 'disappointment', 'not', 'him', 'her', 'good', 'time', '?', '.', '!', 'movie', 'film', 'action', 'comedy', 'drama', 'family'), dtype=tf.string, default_value=-1, num_oov_buckets=0), dimension=2, combiner='mean', initializer=<tensorflow.python.ops.init_ops.TruncatedNormal object at 0x7f6a44357668>, ckpt_to_load_from=None, tensor_name_in_ckpt=None, max_norm=None, trainable=True)\n"
     ]
    }
   ],
   "source": [
    "# Here's a example code snippet you might use to define the feature columns:\n",
    "\n",
    "terms_embedding_column = tf.feature_column.embedding_column(terms_feature_column, dimension=2)\n",
    "feature_columns = [ terms_embedding_column ]\n",
    "print(terms_embedding_column)"
   ]
  },
  {
   "cell_type": "markdown",
   "metadata": {
    "id": "iv1UBsJxyV37",
    "colab_type": "text"
   },
   "source": [
    " ### 完成以下代码"
   ]
  },
  {
   "cell_type": "code",
   "execution_count": 0,
   "metadata": {
    "id": "5PG_yhNGLS8u",
    "colab_type": "code",
    "colab": {}
   },
   "outputs": [],
   "source": [
    "########################## YOUR CODE HERE ######################################\n",
    "terms_embedding_column = # Define the embedding column\n",
    "feature_columns = # Define the feature columns\n",
    "\n",
    "classifier = # Define the DNNClassifier\n",
    "################################################################################\n",
    "\n",
    "classifier.train(\n",
    "  input_fn=lambda: _input_fn([train_path]),\n",
    "  steps=1000)\n",
    "\n",
    "evaluation_metrics = classifier.evaluate(\n",
    "  input_fn=lambda: _input_fn([train_path]),\n",
    "  steps=1000)\n",
    "print(\"Training set metrics:\")\n",
    "for m in evaluation_metrics:\n",
    "  print(m, evaluation_metrics[m])\n",
    "print(\"---\")\n",
    "\n",
    "evaluation_metrics = classifier.evaluate(\n",
    "  input_fn=lambda: _input_fn([test_path]),\n",
    "  steps=1000)\n",
    "\n",
    "print(\"Test set metrics:\")\n",
    "for m in evaluation_metrics:\n",
    "  print(m, evaluation_metrics[m])\n",
    "print(\"---\")"
   ]
  },
  {
   "cell_type": "markdown",
   "metadata": {
    "id": "eQS5KQzBybTY",
    "colab_type": "text"
   },
   "source": [
    " ### 解决方案\n",
    "\n",
    "点击下方即可查看解决方案。"
   ]
  },
  {
   "cell_type": "code",
   "execution_count": 15,
   "metadata": {
    "id": "R5xOdYeQydi5",
    "colab_type": "code",
    "colab": {
     "base_uri": "https://localhost:8080/",
     "height": 459.0
    },
    "outputId": "7785f455-375c-4486-d635-a553d3f189ac",
    "collapsed": true
   },
   "outputs": [
    {
     "name": "stdout",
     "output_type": "stream",
     "text": [
      "Training set metrics:\n",
      "accuracy 0.7886\n",
      "accuracy_baseline 0.5\n",
      "auc 0.8692053\n",
      "auc_precision_recall 0.85803545\n",
      "average_loss 0.45276546\n",
      "label/mean 0.5\n",
      "loss 11.319137\n",
      "precision 0.7694376\n",
      "prediction/mean 0.50430495\n",
      "recall 0.82416\n",
      "global_step 1000\n",
      "---\n",
      "Test set metrics:\n",
      "accuracy 0.78332\n",
      "accuracy_baseline 0.5\n",
      "auc 0.8680344\n",
      "auc_precision_recall 0.8564084\n",
      "average_loss 0.45474902\n",
      "label/mean 0.5\n",
      "loss 11.368726\n",
      "precision 0.76637834\n",
      "prediction/mean 0.50331974\n",
      "recall 0.81512\n",
      "global_step 1000\n",
      "---\n"
     ]
    }
   ],
   "source": [
    "########################## SOLUTION CODE ########################################\n",
    "terms_embedding_column = tf.feature_column.embedding_column(terms_feature_column, dimension=2)\n",
    "feature_columns = [ terms_embedding_column ]\n",
    "\n",
    "my_optimizer = tf.train.AdagradOptimizer(learning_rate=0.1)\n",
    "my_optimizer = tf.contrib.estimator.clip_gradients_by_norm(my_optimizer, 5.0)\n",
    "\n",
    "classifier = tf.estimator.DNNClassifier(\n",
    "  feature_columns=feature_columns,\n",
    "  hidden_units=[20,20],\n",
    "  optimizer=my_optimizer\n",
    ")\n",
    "#################################################################################\n",
    "\n",
    "classifier.train(\n",
    "  input_fn=lambda: _input_fn([train_path]),\n",
    "  steps=1000)\n",
    "\n",
    "evaluation_metrics = classifier.evaluate(\n",
    "  input_fn=lambda: _input_fn([train_path]),\n",
    "  steps=1000)\n",
    "print(\"Training set metrics:\")\n",
    "for m in evaluation_metrics:\n",
    "  print(m, evaluation_metrics[m])\n",
    "print(\"---\")\n",
    "\n",
    "evaluation_metrics = classifier.evaluate(\n",
    "  input_fn=lambda: _input_fn([test_path]),\n",
    "  steps=1000)\n",
    "\n",
    "print(\"Test set metrics:\")\n",
    "for m in evaluation_metrics:\n",
    "  print(m, evaluation_metrics[m])\n",
    "print(\"---\")"
   ]
  },
  {
   "cell_type": "markdown",
   "metadata": {
    "id": "aiHnnVtzLS8w",
    "colab_type": "text"
   },
   "source": [
    " ## 任务 4：确信模型中确实存在嵌入\n",
    "\n",
    "上述模型使用了 `embedding_column`，而且似乎很有效，但这并没有让我们了解到内部发生的情形。我们如何检查该模型确实在内部使用了嵌入？\n",
    "\n",
    "首先，我们来看看该模型中的张量："
   ]
  },
  {
   "cell_type": "code",
   "execution_count": 16,
   "metadata": {
    "id": "h1jNgLdQLS8w",
    "colab_type": "code",
    "colab": {
     "base_uri": "https://localhost:8080/",
     "height": 272.0
    },
    "outputId": "77db8f04-a6a4-4a2a-bd62-95e9e924239e",
    "collapsed": true
   },
   "outputs": [
    {
     "data": {
      "text/plain": [
       "['dnn/hiddenlayer_0/bias',\n",
       " 'dnn/hiddenlayer_0/bias/t_0/Adagrad',\n",
       " 'dnn/hiddenlayer_0/kernel',\n",
       " 'dnn/hiddenlayer_0/kernel/t_0/Adagrad',\n",
       " 'dnn/hiddenlayer_1/bias',\n",
       " 'dnn/hiddenlayer_1/bias/t_0/Adagrad',\n",
       " 'dnn/hiddenlayer_1/kernel',\n",
       " 'dnn/hiddenlayer_1/kernel/t_0/Adagrad',\n",
       " 'dnn/input_from_feature_columns/input_layer/terms_embedding/embedding_weights',\n",
       " 'dnn/input_from_feature_columns/input_layer/terms_embedding/embedding_weights/t_0/Adagrad',\n",
       " 'dnn/logits/bias',\n",
       " 'dnn/logits/bias/t_0/Adagrad',\n",
       " 'dnn/logits/kernel',\n",
       " 'dnn/logits/kernel/t_0/Adagrad',\n",
       " 'global_step']"
      ]
     },
     "execution_count": 16,
     "metadata": {
      "tags": []
     },
     "output_type": "execute_result"
    }
   ],
   "source": [
    "classifier.get_variable_names()"
   ]
  },
  {
   "cell_type": "markdown",
   "metadata": {
    "id": "Sl4-VctMLS8z",
    "colab_type": "text"
   },
   "source": [
    " 好的，我们可以看到这里有一个嵌入层：`'dnn/input_from_feature_columns/input_layer/terms_embedding/...'`。（顺便说一下，有趣的是，该层可以与模型的其他层一起训练，就像所有隐藏层一样。）\n",
    "\n",
    "嵌入层的形状是否正确？请运行以下代码来查明。"
   ]
  },
  {
   "cell_type": "markdown",
   "metadata": {
    "id": "JNFxyQUiLS80",
    "colab_type": "text"
   },
   "source": [
    " **注意**：*在我们的示例中，嵌入是一个矩阵，可让我们将一个 50 维矢量投射到 2 维空间。*"
   ]
  },
  {
   "cell_type": "markdown",
   "metadata": {
    "id": "MnLCIogjLS82",
    "colab_type": "text"
   },
   "source": [
    " 花些时间来手动检查各个层及其形状，以确保一切都按照您预期的方式互相连接。"
   ]
  },
  {
   "cell_type": "code",
   "execution_count": 0,
   "metadata": {
    "id": "1xMbpcEjLS80",
    "colab_type": "code",
    "outputId": "7f13a891-4a8c-470b-cc92-1dd0c20e497d",
    "colab": {
     "base_uri": "https://localhost:8080/",
     "height": 34.0
    }
   },
   "outputs": [
    {
     "data": {
      "text/plain": [
       "(50, 2)"
      ]
     },
     "execution_count": 17,
     "metadata": {
      "tags": []
     },
     "output_type": "execute_result"
    }
   ],
   "source": [
    "classifier.get_variable_value('dnn/input_from_feature_columns/input_layer/terms_embedding/embedding_weights').shape"
   ]
  },
  {
   "cell_type": "code",
   "execution_count": 0,
   "metadata": {
    "id": "t2OsFVDvI7vY",
    "colab_type": "code",
    "outputId": "f030192a-bf7b-498d-ef4a-7a73b15d58f4",
    "colab": {
     "base_uri": "https://localhost:8080/",
     "height": 34.0
    }
   },
   "outputs": [
    {
     "data": {
      "text/plain": [
       "(50, 2)"
      ]
     },
     "execution_count": 18,
     "metadata": {
      "tags": []
     },
     "output_type": "execute_result"
    }
   ],
   "source": [
    "classifier.get_variable_value('dnn/input_from_feature_columns/input_layer/terms_embedding/embedding_weights').shape"
   ]
  },
  {
   "cell_type": "code",
   "execution_count": 0,
   "metadata": {
    "id": "mApM4EAyJJEh",
    "colab_type": "code",
    "colab": {}
   },
   "outputs": [],
   "source": [
    "a = classifier.get_variable_value('dnn/input_from_feature_columns/input_layer/terms_embedding/embedding_weights')"
   ]
  },
  {
   "cell_type": "code",
   "execution_count": 0,
   "metadata": {
    "id": "ZgeVhcQRLm1_",
    "colab_type": "code",
    "outputId": "4f7077d4-a22d-44d3-8ff5-13274d32e9b9",
    "colab": {
     "base_uri": "https://localhost:8080/",
     "height": 34.0
    }
   },
   "outputs": [
    {
     "data": {
      "text/plain": [
       "numpy.ndarray"
      ]
     },
     "execution_count": 22,
     "metadata": {
      "tags": []
     },
     "output_type": "execute_result"
    }
   ],
   "source": [
    "type(a)"
   ]
  },
  {
   "cell_type": "code",
   "execution_count": 0,
   "metadata": {
    "id": "dQp65vfjMNGP",
    "colab_type": "code",
    "colab": {}
   },
   "outputs": [],
   "source": [
    "tTerm = ['bad', 'great', 'best', 'worst', 'fun', 'beautiful', 'excellent', 'poor', 'boring', 'awful', 'terrible', 'definitely', 'perfect', 'liked', 'worse', 'waste', 'entertaining', 'loved', 'unfortunately', 'amazing', 'enjoyed', 'favorite', 'horrible', 'brilliant', 'highly', 'simple', 'annoying', 'today', 'hilarious', 'enjoyable', 'dull', 'fantastic', 'poorly', 'fails', 'disappointing', 'disappointment', 'not', 'him', 'her', 'good', 'time', '?', '.', '!', 'movie', 'film', 'action', 'comedy', 'drama', 'family']\n",
    "embeding_weights = classifier.get_variable_value('dnn/input_from_feature_columns/input_layer/terms_embedding/embedding_weights')"
   ]
  },
  {
   "cell_type": "code",
   "execution_count": 32,
   "metadata": {
    "id": "BguPcXgJMa-k",
    "colab_type": "code",
    "colab": {
     "base_uri": "https://localhost:8080/",
     "height": 1000.0
    },
    "outputId": "11b9544e-19a9-4f53-9484-bff9040322fd",
    "collapsed": true
   },
   "outputs": [
    {
     "data": {
      "image/png": "[encoded data removed]",
      "text/plain": [
       "<Figure size 1440x1440 with 1 Axes>"
      ]
     },
     "metadata": {
      "tags": []
     },
     "output_type": "display_data"
    }
   ],
   "source": [
    "d1 = [x[0] for x in embeding_weights]\n",
    "d2 = [x[1] for x in embeding_weights]\n",
    "\n",
    "props = {'ha': 'center', 'va': 'center'}\n",
    "# fig, ax = plt.subplot()\n",
    "plt.figure(figsize=(20,20))\n",
    "plt.xlim(-3,3)\n",
    "plt.ylim(-3,3)\n",
    "for i in range(len(tTerm)):\n",
    "  plt.text(d1[i], d2[i], tTerm[i]+\"(%.2f,%.2f)\"%(d1[i], d2[i]))\n",
    "plt.show()"
   ]
  },
  {
   "cell_type": "markdown",
   "metadata": {
    "id": "rkKAaRWDLS83",
    "colab_type": "text"
   },
   "source": [
    " ## 任务 5：检查嵌入\n",
    "\n",
    "现在，我们来看看实际嵌入空间，并了解术语最终所在的位置。请执行以下操作：\n",
    "1. 运行以下代码来查看我们在**任务 3** 中训练的嵌入。一切最终是否如您所预期的那样？\n",
    "\n",
    "2. 重新运行**任务 3** 中的代码来重新训练该模型，然后再次运行下面的嵌入可视化。哪些保持不变？哪些发生了变化？ 敏感词分布在了 2,4 象限\n",
    "\n",
    "3. 最后，仅使用 10 步来重新训练该模型（这将产生一个糟糕的模型）。再次运行下面的嵌入可视化。您现在看到了什么？为什么？ 分布比较离散, 没有明显特征"
   ]
  },
  {
   "cell_type": "code",
   "execution_count": 35,
   "metadata": {
    "id": "s4NNu7KqLS84",
    "colab_type": "code",
    "colab": {
     "base_uri": "https://localhost:8080/",
     "height": 867.0
    },
    "outputId": "2b8cce54-76d0-4606-ed98-59f1924acd6f",
    "collapsed": true
   },
   "outputs": [
    {
     "data": {
      "image/png": "[encoded data removed]",
      "text/plain": [
       "<Figure size 1080x1080 with 1 Axes>"
      ]
     },
     "metadata": {
      "tags": []
     },
     "output_type": "display_data"
    }
   ],
   "source": [
    "import numpy as np\n",
    "import matplotlib.pyplot as plt\n",
    "\n",
    "embedding_matrix = classifier.get_variable_value('dnn/input_from_feature_columns/input_layer/terms_embedding/embedding_weights')\n",
    "\n",
    "for term_index in range(len(informative_terms)):\n",
    "  # Create a one-hot encoding for our term.  It has 0s everywhere, except for\n",
    "  # a single 1 in the coordinate that corresponds to that term.\n",
    "  term_vector = np.zeros(len(informative_terms))\n",
    "  term_vector[term_index] = 1\n",
    "  # We'll now project that one-hot vector into the embedding space.\n",
    "  embedding_xy = np.matmul(term_vector, embedding_matrix)\n",
    "  plt.text(embedding_xy[0],\n",
    "           embedding_xy[1],\n",
    "           informative_terms[term_index])\n",
    "\n",
    "# Do a little setup to make sure the plot displays nicely.\n",
    "plt.rcParams[\"figure.figsize\"] = (15, 15)\n",
    "plt.xlim(1.2 * embedding_matrix.min(), 1.2 * embedding_matrix.max())\n",
    "plt.ylim(1.2 * embedding_matrix.min(), 1.2 * embedding_matrix.max())\n",
    "plt.show() "
   ]
  },
  {
   "cell_type": "code",
   "execution_count": 34,
   "metadata": {
    "id": "S9zS-k0SXNG1",
    "colab_type": "code",
    "colab": {
     "base_uri": "https://localhost:8080/",
     "height": 459.0
    },
    "outputId": "d8decc51-3cdd-4f66-9ad2-13d9b9f9c278",
    "collapsed": true
   },
   "outputs": [
    {
     "name": "stdout",
     "output_type": "stream",
     "text": [
      "Training set metrics:\n",
      "accuracy 0.5\n",
      "accuracy_baseline 0.5\n",
      "auc 0.583584\n",
      "auc_precision_recall 0.6465852\n",
      "average_loss 0.69381887\n",
      "label/mean 0.5\n",
      "loss 17.34547\n",
      "precision 0.5\n",
      "prediction/mean 0.5330631\n",
      "recall 1.0\n",
      "global_step 10\n",
      "---\n",
      "Test set metrics:\n",
      "accuracy 0.46\n",
      "accuracy_baseline 0.53999996\n",
      "auc 0.60792273\n",
      "auc_precision_recall 0.6146133\n",
      "average_loss 0.6991872\n",
      "label/mean 0.46\n",
      "loss 17.47968\n",
      "precision 0.46\n",
      "prediction/mean 0.53301775\n",
      "recall 1.0\n",
      "global_step 10\n",
      "---\n"
     ]
    }
   ],
   "source": [
    "########################## SOLUTION CODE ########################################\n",
    "terms_embedding_column = tf.feature_column.embedding_column(terms_feature_column, dimension=2)\n",
    "feature_columns = [ terms_embedding_column ]\n",
    "\n",
    "my_optimizer = tf.train.AdagradOptimizer(learning_rate=0.1)\n",
    "my_optimizer = tf.contrib.estimator.clip_gradients_by_norm(my_optimizer, 5.0)\n",
    "\n",
    "classifier = tf.estimator.DNNClassifier(\n",
    "  feature_columns=feature_columns,\n",
    "  hidden_units=[20,20],\n",
    "  optimizer=my_optimizer\n",
    ")\n",
    "#################################################################################\n",
    "\n",
    "classifier.train(\n",
    "  input_fn=lambda: _input_fn([train_path]),\n",
    "  steps=10)\n",
    "\n",
    "evaluation_metrics = classifier.evaluate(\n",
    "  input_fn=lambda: _input_fn([train_path]),\n",
    "  steps=10)\n",
    "print(\"Training set metrics:\")\n",
    "for m in evaluation_metrics:\n",
    "  print(m, evaluation_metrics[m])\n",
    "print(\"---\")\n",
    "\n",
    "evaluation_metrics = classifier.evaluate(\n",
    "  input_fn=lambda: _input_fn([test_path]),\n",
    "  steps=10)\n",
    "\n",
    "print(\"Test set metrics:\")\n",
    "for m in evaluation_metrics:\n",
    "  print(m, evaluation_metrics[m])\n",
    "print(\"---\")"
   ]
  },
  {
   "cell_type": "markdown",
   "metadata": {
    "id": "pUb3L7pqLS86",
    "colab_type": "text"
   },
   "source": [
    " ## 任务 6：尝试改进模型的效果\n",
    "\n",
    "看看您能否优化该模型以改进其效果。您可以尝试以下几种做法：\n",
    "\n",
    "* **更改超参数**或**使用其他优化工具**，比如 Adam（通过遵循这些策略，您的准确率可能只会提高一两个百分点）。\n",
    "* **向 `informative_terms` 中添加其他术语。**此数据集有一个完整的词汇表文件，其中包含 30716 个术语，您可以在以下位置找到该文件：https://download.mlcc.google.cn/mledu-datasets/sparse-data-embedding/terms.txt 您可以从该词汇表文件中挑选出其他术语，也可以通过 `categorical_column_with_vocabulary_file` 特征列使用整个词汇表文件。"
   ]
  },
  {
   "cell_type": "code",
   "execution_count": 36,
   "metadata": {
    "id": "6-b3BqXvLS86",
    "colab_type": "code",
    "colab": {
     "base_uri": "https://localhost:8080/",
     "height": 51.0
    },
    "outputId": "7e5cd570-6e27-4317-ba26-6e8698de6cab"
   },
   "outputs": [
    {
     "name": "stdout",
     "output_type": "stream",
     "text": [
      "Downloading data from https://download.mlcc.google.cn/mledu-datasets/sparse-data-embedding/terms.txt\n",
      "253952/253538 [==============================] - 0s 0us/step\n"
     ]
    }
   ],
   "source": [
    "# Download the vocabulary file.\n",
    "terms_url = 'https://download.mlcc.google.cn/mledu-datasets/sparse-data-embedding/terms.txt'\n",
    "terms_path = tf.keras.utils.get_file(terms_url.split('/')[-1], terms_url)"
   ]
  },
  {
   "cell_type": "code",
   "execution_count": 37,
   "metadata": {
    "id": "0jbJlwW5LS8-",
    "colab_type": "code",
    "colab": {
     "base_uri": "https://localhost:8080/",
     "height": 459.0
    },
    "outputId": "2e9f8604-a837-4f14-f648-aacda7348c19"
   },
   "outputs": [
    {
     "name": "stdout",
     "output_type": "stream",
     "text": [
      "Training set metrics:\n",
      "accuracy 0.7938\n",
      "accuracy_baseline 0.5\n",
      "auc 0.8597727\n",
      "auc_precision_recall 0.8676441\n",
      "average_loss 0.47976646\n",
      "label/mean 0.5\n",
      "loss 11.994162\n",
      "precision 0.81662214\n",
      "prediction/mean 0.5278312\n",
      "recall 0.75776\n",
      "global_step 1000\n",
      "---\n",
      "Test set metrics:\n",
      "accuracy 0.7754\n",
      "accuracy_baseline 0.5\n",
      "auc 0.8433187\n",
      "auc_precision_recall 0.8478319\n",
      "average_loss 0.49990883\n",
      "label/mean 0.5\n",
      "loss 12.497721\n",
      "precision 0.8008915\n",
      "prediction/mean 0.52487963\n",
      "recall 0.73304\n",
      "global_step 1000\n",
      "---\n"
     ]
    }
   ],
   "source": [
    "# Create a feature column from \"terms\", using a full vocabulary file.\n",
    "informative_terms = None\n",
    "with io.open(terms_path, 'r', encoding='utf8') as f:\n",
    "    # Convert it to a set first to remove duplicates.\n",
    "    informative_terms = list(set(f.read().split()))\n",
    "\n",
    "terms_feature_column = tf.feature_column.categorical_column_with_vocabulary_list(key=\"terms\",\n",
    "                                                                                 vocabulary_list=informative_terms)\n",
    "\n",
    "terms_embedding_column = tf.feature_column.embedding_column(terms_feature_column, dimension=2)\n",
    "feature_columns = [terms_embedding_column]\n",
    "\n",
    "my_optimizer = tf.train.AdagradOptimizer(learning_rate=0.1)\n",
    "my_optimizer = tf.contrib.estimator.clip_gradients_by_norm(my_optimizer, 5.0)\n",
    "\n",
    "classifier = tf.estimator.DNNClassifier(\n",
    "    feature_columns=feature_columns,\n",
    "    hidden_units=[10, 10],\n",
    "    optimizer=my_optimizer\n",
    ")\n",
    "\n",
    "classifier.train(\n",
    "    input_fn=lambda: _input_fn([train_path]),\n",
    "    steps=1000)\n",
    "\n",
    "evaluation_metrics = classifier.evaluate(\n",
    "    input_fn=lambda: _input_fn([train_path]),\n",
    "    steps=1000)\n",
    "print(\"Training set metrics:\")\n",
    "for m in evaluation_metrics:\n",
    "    print(m, evaluation_metrics[m])\n",
    "print(\"---\")\n",
    "\n",
    "evaluation_metrics = classifier.evaluate(\n",
    "    input_fn=lambda: _input_fn([test_path]),\n",
    "    steps=1000)\n",
    "\n",
    "print(\"Test set metrics:\")\n",
    "for m in evaluation_metrics:\n",
    "    print(m, evaluation_metrics[m])\n",
    "print(\"---\")\n"
   ]
  },
  {
   "cell_type": "code",
   "execution_count": 38,
   "metadata": {
    "id": "ymEEI5yaYeNZ",
    "colab_type": "code",
    "colab": {
     "base_uri": "https://localhost:8080/",
     "height": 867.0
    },
    "outputId": "c7e63ad8-a504-4fd0-9325-e70e4c9f28e7"
   },
   "outputs": [
    {
     "data": {
      "image/png": "[encoded data removed]",
      "text/plain": [
       "<Figure size 1080x1080 with 1 Axes>"
      ]
     },
     "metadata": {
      "tags": []
     },
     "output_type": "display_data"
    }
   ],
   "source": [
    "embedding_matrix = classifier.get_variable_value('dnn/input_from_feature_columns/input_layer/terms_embedding/embedding_weights')\n",
    "iC = 1\n",
    "for term_index in range(len(informative_terms)):\n",
    "  # iC += 1\n",
    "  # if iC > 100:\n",
    "  #   break\n",
    "\n",
    "  \n",
    "  # Create a one-hot encoding for our term.  It has 0s everywhere, except for\n",
    "  # a single 1 in the coordinate that corresponds to that term.\n",
    "  term_vector = np.zeros(len(informative_terms))\n",
    "  term_vector[term_index] = 1\n",
    "  # We'll now project that one-hot vector into the embedding space.\n",
    "  embedding_xy = np.matmul(term_vector, embedding_matrix)\n",
    "  plt.text(embedding_xy[0],\n",
    "           embedding_xy[1],\n",
    "           informative_terms[term_index])\n",
    "\n",
    "# Do a little setup to make sure the plot displays nicely.\n",
    "plt.rcParams[\"figure.figsize\"] = (15, 15)\n",
    "plt.xlim(1.2 * embedding_matrix.min(), 1.2 * embedding_matrix.max())\n",
    "plt.ylim(1.2 * embedding_matrix.min(), 1.2 * embedding_matrix.max())\n",
    "plt.show() "
   ]
  },
  {
   "cell_type": "markdown",
   "metadata": {
    "id": "ew3kwGM-LS9B",
    "colab_type": "text"
   },
   "source": [
    " ## 总结\n",
    "\n",
    "我们可能获得了比我们原来的线性模型更好且具有嵌入的 DNN 解决方案，但线性模型也相当不错，而且训练速度快得多。线性模型的训练速度之所以更快，是因为它们没有太多要更新的参数或要反向传播的层。\n",
    "\n",
    "在有些应用中，线性模型的速度可能非常关键，或者从质量的角度来看，线性模型可能完全够用。在其他领域，DNN 提供的额外模型复杂性和能力可能更重要。在定义模型架构时，请记得要充分探讨您的问题，以便知道自己所处的情形。"
   ]
  },
  {
   "cell_type": "markdown",
   "metadata": {
    "id": "9MquXy9zLS9B",
    "colab_type": "text"
   },
   "source": [
    " ### *可选内容：*在 `embedding_column` 与 `indicator_column` 之间进行权衡\n",
    "\n",
    "从概念上讲，在训练 `LinearClassifier` 或 `DNNClassifier` 时，需要根据实际情况使用稀疏列。TF 提供了两个选项：`embedding_column` 或 `indicator_column`。\n",
    "\n",
    "在训练 LinearClassifier（如**任务 1** 中所示）时，系统在后台使用了 `embedding_column`。正如**任务 2** 中所示，在训练 `DNNClassifier` 时，您必须明确选择 `embedding_column` 或 `indicator_column`。本部分通过一个简单的示例讨论了这两者之间的区别，以及如何在二者之间进行权衡。"
   ]
  },
  {
   "cell_type": "markdown",
   "metadata": {
    "id": "M_3XuZ_LLS9C",
    "colab_type": "text"
   },
   "source": [
    " 假设我们的稀疏数据包含 `\"great\"`、`\"beautiful\"` 和 `\"excellent\"` 这几个值。由于我们在此处使用的词汇表大小为 $V = 50$，因此第一层中的每个单元（神经元）的权重将为 50。我们用 $s$ 表示稀疏输入中的项数。对于此示例稀疏数据，$s = 3$。对于具有 $V$ 个可能值的输入层，带有 $d$ 个单元的隐藏层需要运行一次“矢量 - 矩阵”乘法运算：$(1 \\times V) * (V \\times d)$。此运算会产生 $O(V * d)$ 的计算成本。请注意，此成本与隐藏层中的权重数成正比，而与 $s$ 无关。\n",
    "\n",
    "如果输入使用 [`indicator_column`](https://www.tensorflow.org/api_docs/python/tf/feature_column/indicator_column) 进行了独热编码（长度为 $V$ 的布尔型矢量，存在用 1 表示，其余则为 0），这表示很多零进行了相乘和相加运算。"
   ]
  },
  {
   "cell_type": "markdown",
   "metadata": {
    "id": "I7mR4Wa2LS9C",
    "colab_type": "text"
   },
   "source": [
    " 当我们通过使用大小为 $d$ 的 [`embedding_column`](https://www.tensorflow.org/api_docs/python/tf/feature_column/embedding_column) 获得完全相同的结果时，我们将仅查询与示例输入中存在的 3 个特征 `\"great\"`、`\"beautiful\"` 和 `\"excellent\"` 相对应的嵌入并将这三个嵌入相加：$(1 \\times d) + (1 \\times d) + (1 \\times d)$。由于不存在的特征的权重在“矢量-矩阵”乘法中与 0 相乘，因此对结果没有任何影响；而存在的特征的权重在“矢量-矩阵”乘法中与 1 相乘。因此，将通过嵌入查询获得的权重相加会获得与“矢量-矩阵”乘法相同的结果。\n",
    "\n",
    "当使用嵌入时，计算嵌入查询是一个 $O(s * d)$ 计算；从计算方面而言，它比稀疏数据中的 `indicator_column` 的 $O(V * d)$ 更具成本效益，因为 $s$ 远远小于 $V$。（请注意，这些嵌入是临时学习的结果。在任何指定的训练迭代中，都是当前查询的权重。"
   ]
  },
  {
   "cell_type": "markdown",
   "metadata": {
    "id": "etZ9qf0kLS9D",
    "colab_type": "text"
   },
   "source": [
    " 正如我们在**任务 3** 中看到的，通过在训练 `DNNClassifier` 过程中使用 `embedding_column`，我们的模型学习了特征的低维度表示法，其中点积定义了一个针对目标任务的相似性指标。在本例中，影评中使用的相似术语（例如 `\"great\"` 和 `\"excellent\"`）在嵌入空间中彼此之间距离较近（即具有较大的点积），而相异的术语（例如 `\"great\"` 和 `\"bad\"`）在嵌入空间中彼此之间距离较远（即具有较小的点积）。"
   ]
  }
 ],
 "metadata": {
  "colab": {
   "name": "intro_to_sparse_data_and_embeddings.ipynb",
   "version": "0.3.2",
   "provenance": [],
   "collapsed_sections": [
    "mNCLhxsXyOIS",
    "eQS5KQzBybTY",
    "copyright-notice"
   ],
   "include_colab_link": true
  },
  "kernelspec": {
   "name": "python3",
   "display_name": "Python 3"
  }
 },
 "nbformat": 4,
 "nbformat_minor": 0
}
